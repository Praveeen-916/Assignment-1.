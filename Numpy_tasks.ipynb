{
  "cells": [
    {
      "cell_type": "markdown",
      "metadata": {
        "id": "view-in-github",
        "colab_type": "text"
      },
      "source": [
        "<a href=\"https://colab.research.google.com/github/Praveen916-R/Data-Science-Assignments/blob/main/Numpy_tasks.ipynb\" target=\"_parent\"><img src=\"https://colab.research.google.com/assets/colab-badge.svg\" alt=\"Open In Colab\"/></a>"
      ]
    },
    {
      "cell_type": "markdown",
      "metadata": {
        "id": "unhko13-DVJv"
      },
      "source": [
        "# Numpy\n",
        "\n"
      ]
    },
    {
      "cell_type": "markdown",
      "metadata": {
        "id": "Cnjh51FWDVJ7"
      },
      "source": [
        "#### 1. Import the numpy package under the name `np` (★☆☆) \n",
        "(**hint**: import … as …)"
      ]
    },
    {
      "cell_type": "code",
      "execution_count": 1,
      "metadata": {
        "collapsed": true,
        "id": "MFT2tCW6DVJ8"
      },
      "outputs": [],
      "source": [
        "import numpy as np"
      ]
    },
    {
      "cell_type": "markdown",
      "metadata": {
        "id": "QwUmOPdFDVJ-"
      },
      "source": [
        "#### 2. Print the numpy version and the configuration (★☆☆) \n",
        "(**hint**: np.\\_\\_version\\_\\_, np.show\\_config)"
      ]
    },
    {
      "cell_type": "code",
      "execution_count": 2,
      "metadata": {
        "id": "Eay85sbnDVJ_",
        "outputId": "c9fc5202-4049-4628-d8dc-dae81c6d8922",
        "colab": {
          "base_uri": "https://localhost:8080/"
        }
      },
      "outputs": [
        {
          "output_type": "stream",
          "name": "stdout",
          "text": [
            "1.21.6\n",
            "blas_mkl_info:\n",
            "  NOT AVAILABLE\n",
            "blis_info:\n",
            "  NOT AVAILABLE\n",
            "openblas_info:\n",
            "    libraries = ['openblas', 'openblas']\n",
            "    library_dirs = ['/usr/local/lib']\n",
            "    language = c\n",
            "    define_macros = [('HAVE_CBLAS', None)]\n",
            "    runtime_library_dirs = ['/usr/local/lib']\n",
            "blas_opt_info:\n",
            "    libraries = ['openblas', 'openblas']\n",
            "    library_dirs = ['/usr/local/lib']\n",
            "    language = c\n",
            "    define_macros = [('HAVE_CBLAS', None)]\n",
            "    runtime_library_dirs = ['/usr/local/lib']\n",
            "lapack_mkl_info:\n",
            "  NOT AVAILABLE\n",
            "openblas_lapack_info:\n",
            "    libraries = ['openblas', 'openblas']\n",
            "    library_dirs = ['/usr/local/lib']\n",
            "    language = c\n",
            "    define_macros = [('HAVE_CBLAS', None)]\n",
            "    runtime_library_dirs = ['/usr/local/lib']\n",
            "lapack_opt_info:\n",
            "    libraries = ['openblas', 'openblas']\n",
            "    library_dirs = ['/usr/local/lib']\n",
            "    language = c\n",
            "    define_macros = [('HAVE_CBLAS', None)]\n",
            "    runtime_library_dirs = ['/usr/local/lib']\n",
            "Supported SIMD extensions in this NumPy install:\n",
            "    baseline = SSE,SSE2,SSE3\n",
            "    found = SSSE3,SSE41,POPCNT,SSE42,AVX,F16C,FMA3,AVX2\n",
            "    not found = AVX512F,AVX512CD,AVX512_KNL,AVX512_KNM,AVX512_SKX,AVX512_CLX,AVX512_CNL,AVX512_ICL\n",
            "None\n"
          ]
        }
      ],
      "source": [
        "print(np.version.version)\n",
        "print(np.show_config())"
      ]
    },
    {
      "cell_type": "markdown",
      "metadata": {
        "id": "YY8GSog0DVJ_"
      },
      "source": [
        "#### 3. Create a null vector of size 10 (★☆☆) \n",
        "(**hint**: np.zeros)"
      ]
    },
    {
      "cell_type": "code",
      "execution_count": 3,
      "metadata": {
        "id": "U1ZXvPdZDVKA",
        "outputId": "f3032168-0c73-4a40-8594-b1245a2d5797",
        "colab": {
          "base_uri": "https://localhost:8080/"
        }
      },
      "outputs": [
        {
          "output_type": "execute_result",
          "data": {
            "text/plain": [
              "array([0., 0., 0., 0., 0., 0., 0., 0., 0., 0.])"
            ]
          },
          "metadata": {},
          "execution_count": 3
        }
      ],
      "source": [
        "x=np.zeros(10)\n",
        "x"
      ]
    },
    {
      "cell_type": "markdown",
      "metadata": {
        "id": "WglGctT5DVKB"
      },
      "source": [
        "#### 4.  How to find the memory size of any array (★☆☆) \n",
        "(**hint**: size, itemsize)"
      ]
    },
    {
      "cell_type": "code",
      "execution_count": 4,
      "metadata": {
        "id": "iJN5T71gDVKB",
        "outputId": "b1cb10a2-e9b4-4cc5-ee85-5198351c71bd",
        "colab": {
          "base_uri": "https://localhost:8080/"
        }
      },
      "outputs": [
        {
          "output_type": "stream",
          "name": "stdout",
          "text": [
            "80 bytes\n"
          ]
        }
      ],
      "source": [
        "x.size,x.itemsize\n",
        "print('%d bytes'%(x.size * x.itemsize))"
      ]
    },
    {
      "cell_type": "markdown",
      "metadata": {
        "id": "MZ6v1O4UDVKC"
      },
      "source": [
        "#### 5.  How to get the documentation of the numpy add function from the command line? (★☆☆) \n",
        "(**hint**: np.info)"
      ]
    },
    {
      "cell_type": "code",
      "execution_count": 5,
      "metadata": {
        "collapsed": true,
        "id": "KenbhXQLDVKC",
        "outputId": "79be78b6-6f11-433f-8133-1c86b687aba9",
        "colab": {
          "base_uri": "https://localhost:8080/"
        }
      },
      "outputs": [
        {
          "output_type": "stream",
          "name": "stdout",
          "text": [
            "add(x1, x2, /, out=None, *, where=True, casting='same_kind', order='K', dtype=None, subok=True[, signature, extobj])\n",
            "\n",
            "Add arguments element-wise.\n",
            "\n",
            "Parameters\n",
            "----------\n",
            "x1, x2 : array_like\n",
            "    The arrays to be added.\n",
            "    If ``x1.shape != x2.shape``, they must be broadcastable to a common\n",
            "    shape (which becomes the shape of the output).\n",
            "out : ndarray, None, or tuple of ndarray and None, optional\n",
            "    A location into which the result is stored. If provided, it must have\n",
            "    a shape that the inputs broadcast to. If not provided or None,\n",
            "    a freshly-allocated array is returned. A tuple (possible only as a\n",
            "    keyword argument) must have length equal to the number of outputs.\n",
            "where : array_like, optional\n",
            "    This condition is broadcast over the input. At locations where the\n",
            "    condition is True, the `out` array will be set to the ufunc result.\n",
            "    Elsewhere, the `out` array will retain its original value.\n",
            "    Note that if an uninitialized `out` array is created via the default\n",
            "    ``out=None``, locations within it where the condition is False will\n",
            "    remain uninitialized.\n",
            "**kwargs\n",
            "    For other keyword-only arguments, see the\n",
            "    :ref:`ufunc docs <ufuncs.kwargs>`.\n",
            "\n",
            "Returns\n",
            "-------\n",
            "add : ndarray or scalar\n",
            "    The sum of `x1` and `x2`, element-wise.\n",
            "    This is a scalar if both `x1` and `x2` are scalars.\n",
            "\n",
            "Notes\n",
            "-----\n",
            "Equivalent to `x1` + `x2` in terms of array broadcasting.\n",
            "\n",
            "Examples\n",
            "--------\n",
            ">>> np.add(1.0, 4.0)\n",
            "5.0\n",
            ">>> x1 = np.arange(9.0).reshape((3, 3))\n",
            ">>> x2 = np.arange(3.0)\n",
            ">>> np.add(x1, x2)\n",
            "array([[  0.,   2.,   4.],\n",
            "       [  3.,   5.,   7.],\n",
            "       [  6.,   8.,  10.]])\n",
            "\n",
            "The ``+`` operator can be used as a shorthand for ``np.add`` on ndarrays.\n",
            "\n",
            ">>> x1 = np.arange(9.0).reshape((3, 3))\n",
            ">>> x2 = np.arange(3.0)\n",
            ">>> x1 + x2\n",
            "array([[ 0.,  2.,  4.],\n",
            "       [ 3.,  5.,  7.],\n",
            "       [ 6.,  8., 10.]])\n"
          ]
        }
      ],
      "source": [
        "np.info(np.add)\n"
      ]
    },
    {
      "cell_type": "markdown",
      "metadata": {
        "id": "egCUXzt_DVKD"
      },
      "source": [
        "#### 6.  Create a null vector of size 10 but the fifth value which is 1 (★☆☆) \n",
        "(**hint**: array\\[4\\])"
      ]
    },
    {
      "cell_type": "code",
      "execution_count": 6,
      "metadata": {
        "id": "bHFQk0B6DVKE",
        "outputId": "763292e7-ab63-4e4a-e135-9ca85073a8f0",
        "colab": {
          "base_uri": "https://localhost:8080/"
        }
      },
      "outputs": [
        {
          "output_type": "execute_result",
          "data": {
            "text/plain": [
              "array([0., 0., 0., 0., 1., 0., 0., 0., 0., 0.])"
            ]
          },
          "metadata": {},
          "execution_count": 6
        }
      ],
      "source": [
        "y=np.zeros(10)\n",
        "y[4]=1\n",
        "y"
      ]
    },
    {
      "cell_type": "markdown",
      "metadata": {
        "id": "OrMw1RW9DVKE"
      },
      "source": [
        "#### 7.  Create a vector with values ranging from 10 to 49 (★☆☆) \n",
        "(**hint**: np.arange)"
      ]
    },
    {
      "cell_type": "code",
      "execution_count": 7,
      "metadata": {
        "id": "uso1oaxQDVKE",
        "outputId": "7ed59573-a98f-48aa-a387-69b6683737c8",
        "colab": {
          "base_uri": "https://localhost:8080/"
        }
      },
      "outputs": [
        {
          "output_type": "execute_result",
          "data": {
            "text/plain": [
              "array([10, 11, 12, 13, 14, 15, 16, 17, 18, 19, 20, 21, 22, 23, 24, 25, 26,\n",
              "       27, 28, 29, 30, 31, 32, 33, 34, 35, 36, 37, 38, 39, 40, 41, 42, 43,\n",
              "       44, 45, 46, 47, 48])"
            ]
          },
          "metadata": {},
          "execution_count": 7
        }
      ],
      "source": [
        "y=np.arange(10,49)\n",
        "y"
      ]
    },
    {
      "cell_type": "markdown",
      "metadata": {
        "id": "GoipkoSCDVKF"
      },
      "source": [
        "#### 8.  Reverse a vector (first element becomes last) (★☆☆) \n",
        "(**hint**: array\\[::-1\\])"
      ]
    },
    {
      "cell_type": "code",
      "execution_count": 8,
      "metadata": {
        "id": "4-9StaCTDVKF",
        "outputId": "8ca357cf-2eee-4d47-a830-f82fa60da83e",
        "colab": {
          "base_uri": "https://localhost:8080/"
        }
      },
      "outputs": [
        {
          "output_type": "stream",
          "name": "stdout",
          "text": [
            "[48 47 46 45 44 43 42 41 40 39 38 37 36 35 34 33 32 31 30 29 28 27 26 25\n",
            " 24 23 22 21 20 19 18 17 16 15 14 13 12 11 10]\n"
          ]
        }
      ],
      "source": [
        "y=np.arange(10,49)\n",
        "print(y[::-1])"
      ]
    },
    {
      "cell_type": "markdown",
      "metadata": {
        "id": "PiSELK_gDVKI"
      },
      "source": [
        "#### 9.  Create a 3x3 matrix with values ranging from 0 to 8 (★☆☆) \n",
        "(**hint**: reshape)"
      ]
    },
    {
      "cell_type": "code",
      "execution_count": 9,
      "metadata": {
        "id": "FREWXoyDDVKJ",
        "outputId": "68dcbd5b-a1f0-4ac1-d581-fd1c8f1b975d",
        "colab": {
          "base_uri": "https://localhost:8080/"
        }
      },
      "outputs": [
        {
          "output_type": "execute_result",
          "data": {
            "text/plain": [
              "array([[0, 1, 2],\n",
              "       [3, 4, 5],\n",
              "       [6, 7, 8]])"
            ]
          },
          "metadata": {},
          "execution_count": 9
        }
      ],
      "source": [
        "y=np.arange(0,9).reshape(3,3)\n",
        "y"
      ]
    },
    {
      "cell_type": "markdown",
      "metadata": {
        "id": "ZgbLHbzADVKJ"
      },
      "source": [
        "#### 10. Find indices of non-zero elements from \\[1,2,0,0,4,0\\] (★☆☆) \n",
        "(**hint**: np.nonzero)"
      ]
    },
    {
      "cell_type": "code",
      "execution_count": 10,
      "metadata": {
        "id": "bFRKlCTsDVKJ",
        "outputId": "9accbc39-2400-44b4-aac2-11f4566a43e0",
        "colab": {
          "base_uri": "https://localhost:8080/"
        }
      },
      "outputs": [
        {
          "output_type": "execute_result",
          "data": {
            "text/plain": [
              "(array([0, 1, 4]),)"
            ]
          },
          "metadata": {},
          "execution_count": 10
        }
      ],
      "source": [
        "x=np.array([1,2,0,0,4,0])\n",
        "y=x.nonzero()\n",
        "y"
      ]
    },
    {
      "cell_type": "markdown",
      "metadata": {
        "id": "yhTG_ghdDVKK"
      },
      "source": [
        "#### 11. Create a 3x3 identity matrix (★☆☆) \n",
        "(**hint**: np.eye)"
      ]
    },
    {
      "cell_type": "code",
      "execution_count": 11,
      "metadata": {
        "id": "6F4_Qi6ADVKK",
        "outputId": "f4a9fdd3-6b80-484a-ee72-5308d8dd0631",
        "colab": {
          "base_uri": "https://localhost:8080/"
        }
      },
      "outputs": [
        {
          "output_type": "execute_result",
          "data": {
            "text/plain": [
              "array([[1., 0., 0.],\n",
              "       [0., 1., 0.],\n",
              "       [0., 0., 1.]])"
            ]
          },
          "metadata": {},
          "execution_count": 11
        }
      ],
      "source": [
        "x=np.eye(3,3)\n",
        "x"
      ]
    },
    {
      "cell_type": "markdown",
      "metadata": {
        "id": "Z9FpHWT6DVKK"
      },
      "source": [
        "#### 12. Create a 3x3x3 array with random values (★☆☆) \n",
        "(**hint**: np.random.random)"
      ]
    },
    {
      "cell_type": "code",
      "execution_count": 12,
      "metadata": {
        "collapsed": true,
        "id": "U2m0t_SqDVKL",
        "outputId": "bcb481ae-5cb4-4bed-92c3-d80469d45dd1",
        "colab": {
          "base_uri": "https://localhost:8080/"
        }
      },
      "outputs": [
        {
          "output_type": "execute_result",
          "data": {
            "text/plain": [
              "array([[[0.6785239 , 0.07598596, 0.818291  ],\n",
              "        [0.84949542, 0.62343869, 0.79453929],\n",
              "        [0.45136521, 0.65648205, 0.20244573]],\n",
              "\n",
              "       [[0.67588308, 0.90784259, 0.22387242],\n",
              "        [0.71558173, 0.5843347 , 0.43848015],\n",
              "        [0.40322284, 0.49417168, 0.50522398]],\n",
              "\n",
              "       [[0.20007597, 0.86134278, 0.58824531],\n",
              "        [0.36771272, 0.80417808, 0.2992304 ],\n",
              "        [0.3349603 , 0.18535363, 0.90256884]]])"
            ]
          },
          "metadata": {},
          "execution_count": 12
        }
      ],
      "source": [
        "x=np.random.random((3,3,3))\n",
        "x"
      ]
    },
    {
      "cell_type": "markdown",
      "metadata": {
        "id": "yJ9sPRHYDVKL"
      },
      "source": [
        "#### 13. Create a 10x10 array with random values and find the minimum and maximum values (★☆☆) \n",
        "(**hint**: min, max)"
      ]
    },
    {
      "cell_type": "code",
      "execution_count": 13,
      "metadata": {
        "id": "ZqgFvoSMDVKL",
        "outputId": "ca952a09-5b3b-4508-ffa9-fb2e493307b0",
        "colab": {
          "base_uri": "https://localhost:8080/"
        }
      },
      "outputs": [
        {
          "output_type": "execute_result",
          "data": {
            "text/plain": [
              "(0.00292631547158384, 0.9975104312728892)"
            ]
          },
          "metadata": {},
          "execution_count": 13
        }
      ],
      "source": [
        "x=np.random.random((10,10))\n",
        "x.min(),x.max()"
      ]
    },
    {
      "cell_type": "markdown",
      "metadata": {
        "id": "jaZXMqfgDVKM"
      },
      "source": [
        "#### 14. Create a random vector of size 30 and find the mean value (★☆☆) \n",
        "(**hint**: mean)"
      ]
    },
    {
      "cell_type": "code",
      "execution_count": 14,
      "metadata": {
        "id": "RG-__zfiDVKM",
        "outputId": "392da961-6a43-48a1-d8a1-7686617a5478",
        "colab": {
          "base_uri": "https://localhost:8080/"
        }
      },
      "outputs": [
        {
          "output_type": "execute_result",
          "data": {
            "text/plain": [
              "14.5"
            ]
          },
          "metadata": {},
          "execution_count": 14
        }
      ],
      "source": [
        "x=np.arange(30)\n",
        "x.mean()"
      ]
    },
    {
      "cell_type": "markdown",
      "metadata": {
        "id": "_gyh4Lv0DVKM"
      },
      "source": [
        "#### 15. Create a 2d array with 1 on the border and 0 inside (★☆☆) \n",
        "(**hint**: array\\[1:-1, 1:-1\\])"
      ]
    },
    {
      "cell_type": "code",
      "execution_count": 15,
      "metadata": {
        "id": "JyxCOw0wDVKM",
        "outputId": "2ec8abf5-9533-4913-e57e-53c11542d9a6",
        "colab": {
          "base_uri": "https://localhost:8080/"
        }
      },
      "outputs": [
        {
          "output_type": "execute_result",
          "data": {
            "text/plain": [
              "array([[1., 1., 1., 1., 1.],\n",
              "       [1., 0., 0., 0., 1.],\n",
              "       [1., 0., 0., 0., 1.],\n",
              "       [1., 0., 0., 0., 1.],\n",
              "       [1., 0., 0., 0., 1.],\n",
              "       [1., 1., 1., 1., 1.]])"
            ]
          },
          "metadata": {},
          "execution_count": 15
        }
      ],
      "source": [
        "x=np.ones(30).reshape(6,5)\n",
        "x[1:-1,1:-1]=0\n",
        "x"
      ]
    },
    {
      "cell_type": "markdown",
      "metadata": {
        "id": "By3Gk51sDVKN"
      },
      "source": [
        "#### 16. How to add a border (filled with 0's) around an existing array? (★☆☆) \n",
        "(**hint**: np.pad)"
      ]
    },
    {
      "cell_type": "code",
      "execution_count": 16,
      "metadata": {
        "id": "IQSuqCuVDVKN",
        "outputId": "eeab355f-159a-400f-be0c-77aaba4d0e49",
        "colab": {
          "base_uri": "https://localhost:8080/"
        }
      },
      "outputs": [
        {
          "output_type": "execute_result",
          "data": {
            "text/plain": [
              "array([[ 0,  0,  0,  0,  0,  0],\n",
              "       [ 0,  1,  2,  3,  4,  0],\n",
              "       [ 0,  5,  6,  7,  8,  0],\n",
              "       [ 0,  9, 10, 11, 12,  0],\n",
              "       [ 0,  0,  0,  0,  0,  0]])"
            ]
          },
          "metadata": {},
          "execution_count": 16
        }
      ],
      "source": [
        "x=np.arange(1,13).reshape(3,4)\n",
        "y=np.pad(x,pad_width=1,mode=\"constant\",constant_values=0)\n",
        "y"
      ]
    },
    {
      "cell_type": "markdown",
      "metadata": {
        "id": "JHSAN9LuDVKN"
      },
      "source": [
        "#### 17. What is the result of the following expression? (★☆☆) \n",
        "(**hint**: NaN = not a number, inf = infinity)"
      ]
    },
    {
      "cell_type": "markdown",
      "metadata": {
        "id": "cfyFJpkyDVKO"
      },
      "source": [
        "```python\n",
        "0 * np.nan\n",
        "np.nan == np.nan\n",
        "np.inf > np.nan\n",
        "np.nan - np.nan\n",
        "0.3 == 3 * 0.1\n",
        "```"
      ]
    },
    {
      "cell_type": "code",
      "execution_count": 17,
      "metadata": {
        "id": "zy9VmFj7DVKO",
        "outputId": "174f6b45-e764-4db1-b0c4-7f5899df4ebd",
        "colab": {
          "base_uri": "https://localhost:8080/"
        }
      },
      "outputs": [
        {
          "output_type": "execute_result",
          "data": {
            "text/plain": [
              "(nan, False, False, nan, False)"
            ]
          },
          "metadata": {},
          "execution_count": 17
        }
      ],
      "source": [
        "0*np.nan,np.nan == np.nan,np.inf > np.nan,np.nan - np.nan,0.3 == 3 * 0.1\n"
      ]
    },
    {
      "cell_type": "markdown",
      "metadata": {
        "id": "TqiMLB-QDVKP"
      },
      "source": [
        "#### 18. Create a 5x5 matrix with values 1,2,3,4 just below the diagonal (★☆☆) \n",
        "(**hint**: np.diag)"
      ]
    },
    {
      "cell_type": "code",
      "execution_count": 18,
      "metadata": {
        "id": "1NWlX1xlDVKP",
        "outputId": "a3e041fc-b5dc-4dd0-f2ec-fd3f80a6b9bb",
        "colab": {
          "base_uri": "https://localhost:8080/"
        }
      },
      "outputs": [
        {
          "output_type": "execute_result",
          "data": {
            "text/plain": [
              "array([[1., 0., 0., 0., 0.],\n",
              "       [1., 1., 0., 0., 0.],\n",
              "       [0., 2., 1., 0., 0.],\n",
              "       [0., 0., 3., 1., 0.],\n",
              "       [0., 0., 0., 4., 1.]])"
            ]
          },
          "metadata": {},
          "execution_count": 18
        }
      ],
      "source": [
        "z=np.eye(5,5)\n",
        "y=np.diag([1,2,3,4])\n",
        "y=np.insert(y,4,np.zeros(y.shape[1]),axis=1)\n",
        "y=np.insert(y,0,np.zeros(z.shape[0]),axis=0)\n",
        "z+y"
      ]
    },
    {
      "cell_type": "markdown",
      "metadata": {
        "id": "qBFEHcbTDVKP"
      },
      "source": [
        "#### 19. Create a 8x8 matrix and fill it with a checkerboard pattern (★☆☆) \n",
        "(**hint**: array\\[::2\\])"
      ]
    },
    {
      "cell_type": "code",
      "execution_count": 19,
      "metadata": {
        "id": "msSE5rAYDVKQ",
        "outputId": "249dd4aa-fcb2-43b1-b70e-2389f367461a",
        "colab": {
          "base_uri": "https://localhost:8080/"
        }
      },
      "outputs": [
        {
          "output_type": "execute_result",
          "data": {
            "text/plain": [
              "array([[1., 0., 1., 0., 1., 0., 1., 0.],\n",
              "       [0., 1., 0., 1., 0., 1., 0., 1.],\n",
              "       [1., 0., 1., 0., 1., 0., 1., 0.],\n",
              "       [0., 1., 0., 1., 0., 1., 0., 1.],\n",
              "       [1., 0., 1., 0., 1., 0., 1., 0.],\n",
              "       [0., 1., 0., 1., 0., 1., 0., 1.],\n",
              "       [1., 0., 1., 0., 1., 0., 1., 0.],\n",
              "       [0., 1., 0., 1., 0., 1., 0., 1.]])"
            ]
          },
          "metadata": {},
          "execution_count": 19
        }
      ],
      "source": [
        "z=np.zeros(64).reshape(8,8)\n",
        "z[::2,::2]=1\n",
        "z[1::2,1::2]=1\n",
        "z"
      ]
    },
    {
      "cell_type": "markdown",
      "metadata": {
        "id": "kQZbuYU1DVKQ"
      },
      "source": [
        "#### 20. Consider a (6,7,8) shape array, what is the index (x,y,z) of the 100th element? \n",
        "(**hint**: np.unravel_index)"
      ]
    },
    {
      "cell_type": "code",
      "execution_count": 20,
      "metadata": {
        "id": "azjwSKFLDVKR",
        "outputId": "f2ee2022-33cf-47e6-b39b-5728d5873ed1",
        "colab": {
          "base_uri": "https://localhost:8080/"
        }
      },
      "outputs": [
        {
          "output_type": "execute_result",
          "data": {
            "text/plain": [
              "(1, 5, 4)"
            ]
          },
          "metadata": {},
          "execution_count": 20
        }
      ],
      "source": [
        "x=np.arange(336).reshape(6,7,8)\n",
        "np.unravel_index(100,(6,7,8))"
      ]
    },
    {
      "cell_type": "markdown",
      "metadata": {
        "id": "cacSjIMYDVKR"
      },
      "source": [
        "#### 21. Create a checkerboard 8x8 matrix using the tile function (★☆☆) \n",
        "(**hint**: np.tile)"
      ]
    },
    {
      "cell_type": "code",
      "execution_count": 21,
      "metadata": {
        "id": "m-CbP9OSDVKR",
        "outputId": "59ff989b-ba9f-4abb-a1e6-c56f401f3492",
        "colab": {
          "base_uri": "https://localhost:8080/"
        }
      },
      "outputs": [
        {
          "output_type": "execute_result",
          "data": {
            "text/plain": [
              "array([[1, 0, 1, 0, 1, 0, 1, 0],\n",
              "       [0, 1, 0, 1, 0, 1, 0, 1],\n",
              "       [1, 0, 1, 0, 1, 0, 1, 0],\n",
              "       [0, 1, 0, 1, 0, 1, 0, 1],\n",
              "       [1, 0, 1, 0, 1, 0, 1, 0],\n",
              "       [0, 1, 0, 1, 0, 1, 0, 1],\n",
              "       [1, 0, 1, 0, 1, 0, 1, 0],\n",
              "       [0, 1, 0, 1, 0, 1, 0, 1]])"
            ]
          },
          "metadata": {},
          "execution_count": 21
        }
      ],
      "source": [
        "x=np.tile(np.array([[1,0],[0,1]]),[4,4])\n",
        "x"
      ]
    },
    {
      "cell_type": "markdown",
      "metadata": {
        "id": "bhlnWFxJDVKR"
      },
      "source": [
        "#### 22. Normalize a 5x5 random matrix (★☆☆) \n",
        "(**hint**: (x - min) / (max - min))"
      ]
    },
    {
      "cell_type": "code",
      "execution_count": 22,
      "metadata": {
        "id": "dg4plhYtDVKS",
        "outputId": "82b325b1-5139-44f4-e030-a178278c6eed",
        "colab": {
          "base_uri": "https://localhost:8080/"
        }
      },
      "outputs": [
        {
          "output_type": "execute_result",
          "data": {
            "text/plain": [
              "array([[0.42300063, 0.34327882, 0.32570087, 0.81970647, 0.11991652],\n",
              "       [0.21526667, 0.71912303, 0.7597657 , 0.55976872, 0.25447673],\n",
              "       [0.25880579, 0.63495356, 0.        , 0.78059647, 0.74958943],\n",
              "       [0.36410189, 0.41156401, 0.14536699, 0.44079122, 1.        ],\n",
              "       [0.27746082, 0.87799827, 0.66302255, 0.07875876, 0.16725638]])"
            ]
          },
          "metadata": {},
          "execution_count": 22
        }
      ],
      "source": [
        "df=np.random.random((5,5))\n",
        "dfmin,dfmax=df.min(),df.max()\n",
        "df=(df-dfmin)/(dfmax-dfmin)\n",
        "df"
      ]
    },
    {
      "cell_type": "markdown",
      "metadata": {
        "id": "WGAZlWo9DVKS"
      },
      "source": [
        "#### 23. Create a custom dtype that describes a color as four unsigned bytes (RGBA) (★☆☆) \n",
        "(**hint**: np.dtype)"
      ]
    },
    {
      "cell_type": "code",
      "execution_count": 23,
      "metadata": {
        "collapsed": true,
        "id": "RT08eRfKDVKS",
        "outputId": "9a6effe9-9d99-4a1d-8327-123c8c908974",
        "colab": {
          "base_uri": "https://localhost:8080/"
        }
      },
      "outputs": [
        {
          "output_type": "stream",
          "name": "stderr",
          "text": [
            "/usr/local/lib/python3.7/dist-packages/ipykernel_launcher.py:4: FutureWarning: Passing (type, 1) or '1type' as a synonym of type is deprecated; in a future version of numpy, it will be understood as (type, (1,)) / '(1,)type'.\n",
            "  after removing the cwd from sys.path.\n"
          ]
        }
      ],
      "source": [
        "color = np.dtype([(\"r\", np.ubyte, 1),\n",
        "                  (\"g\", np.ubyte, 1),\n",
        "                  (\"b\", np.ubyte, 1),\n",
        "                  (\"a\", np.ubyte, 1)])"
      ]
    },
    {
      "cell_type": "markdown",
      "metadata": {
        "id": "Rypu_BAKDVKT"
      },
      "source": [
        "#### 24. Multiply a 5x3 matrix by a 3x2 matrix (real matrix product) (★☆☆) \n",
        "(**hint**: np.dot | @)"
      ]
    },
    {
      "cell_type": "code",
      "execution_count": 24,
      "metadata": {
        "id": "-Jg9AR_kDVKT",
        "outputId": "a137c1c2-3850-428c-84dd-55970b6ca696",
        "colab": {
          "base_uri": "https://localhost:8080/"
        }
      },
      "outputs": [
        {
          "output_type": "execute_result",
          "data": {
            "text/plain": [
              "array([[ 71,  77],\n",
              "       [119, 143],\n",
              "       [114, 159],\n",
              "       [123, 159],\n",
              "       [128, 143]])"
            ]
          },
          "metadata": {},
          "execution_count": 24
        }
      ],
      "source": [
        "mat1=np.random.randint(2,10,(5,3))\n",
        "mat2=np.random.randint(2,10,(3,2))\n",
        "x=np.dot(mat1,mat2)\n",
        "x"
      ]
    },
    {
      "cell_type": "markdown",
      "metadata": {
        "id": "G3sHzisqDVKT"
      },
      "source": [
        "#### 25. Given a 1D array, negate all elements which are between 3 and 8, in place. (★☆☆) \n",
        "(**hint**: >, <=)"
      ]
    },
    {
      "cell_type": "code",
      "execution_count": 25,
      "metadata": {
        "id": "4tNFndoVDVKU",
        "outputId": "7d6ca03a-2eca-4ad2-8f81-51fe2637b27c",
        "colab": {
          "base_uri": "https://localhost:8080/"
        }
      },
      "outputs": [
        {
          "output_type": "execute_result",
          "data": {
            "text/plain": [
              "array([ 0,  1,  2,  3, -4, -5, -6, -7, -8,  9, 10, 11, 12, 13, 14])"
            ]
          },
          "metadata": {},
          "execution_count": 25
        }
      ],
      "source": [
        "x=np.arange(15)\n",
        "x[(x>3) & (x<=8)]*=-1\n",
        "x"
      ]
    },
    {
      "cell_type": "markdown",
      "metadata": {
        "id": "U1Yfiw-NDVKU"
      },
      "source": [
        "#### 26. What is the output of the following script? (★☆☆) \n",
        "(**hint**: np.sum)"
      ]
    },
    {
      "cell_type": "markdown",
      "metadata": {
        "id": "KNT0BjZ1DVKU"
      },
      "source": [
        "```python\n",
        "# Author: Jake VanderPlas\n",
        "\n",
        "print(sum(range(5),-1))\n",
        "from numpy import *\n",
        "print(sum(range(5),-1))\n",
        "```"
      ]
    },
    {
      "cell_type": "code",
      "execution_count": 26,
      "metadata": {
        "id": "MBhv1fqEDVKU",
        "outputId": "470a65dc-7308-4545-a15a-8366228e9dde",
        "colab": {
          "base_uri": "https://localhost:8080/"
        }
      },
      "outputs": [
        {
          "output_type": "stream",
          "name": "stdout",
          "text": [
            "9\n",
            "10\n"
          ]
        }
      ],
      "source": [
        "print(sum(range(5),-1))\n",
        "from numpy import *\n",
        "print(sum(range(5),-1))"
      ]
    },
    {
      "cell_type": "markdown",
      "metadata": {
        "id": "soqGo5chDVKV"
      },
      "source": [
        "#### 27. Consider an integer vector Z, which of these expressions are legal? (★☆☆)"
      ]
    },
    {
      "cell_type": "markdown",
      "metadata": {
        "id": "5lT1va_bDVKV"
      },
      "source": [
        "```python\n",
        "Z**Z\n",
        "2 << Z >> 2\n",
        "Z <- Z\n",
        "1j*Z\n",
        "Z/1/1\n",
        "Z<Z>Z\n",
        "```"
      ]
    },
    {
      "cell_type": "code",
      "execution_count": 27,
      "metadata": {
        "id": "Cg1sTq_GDVKV",
        "outputId": "b78a8153-a5c1-4b6c-bcd2-b92a2d82f805",
        "colab": {
          "base_uri": "https://localhost:8080/"
        }
      },
      "outputs": [
        {
          "output_type": "stream",
          "name": "stdout",
          "text": [
            "[[ 0  1  2  3]\n",
            " [ 4  5  6  7]\n",
            " [ 8  9 10 11]]\n",
            "[[           1            1            4           27]\n",
            " [         256         3125        46656       823543]\n",
            " [    16777216    387420489  10000000000 285311670611]]\n",
            "[[   0    1    2    4]\n",
            " [   8   16   32   64]\n",
            " [ 128  256  512 1024]]\n",
            "[[False False False False]\n",
            " [False False False False]\n",
            " [False False False False]]\n",
            "[[0. +0.j 0. +1.j 0. +2.j 0. +3.j]\n",
            " [0. +4.j 0. +5.j 0. +6.j 0. +7.j]\n",
            " [0. +8.j 0. +9.j 0.+10.j 0.+11.j]]\n",
            "[[ 0.  1.  2.  3.]\n",
            " [ 4.  5.  6.  7.]\n",
            " [ 8.  9. 10. 11.]]\n"
          ]
        }
      ],
      "source": [
        "Z=np.arange(12).reshape(3,4)\n",
        "print(Z)\n",
        "print(Z**Z)\n",
        "print(2 << Z >> 2)\n",
        "print(Z<-Z)\n",
        "print(1j*Z)\n",
        "print(Z/1/1)"
      ]
    },
    {
      "cell_type": "markdown",
      "metadata": {
        "id": "XtG-24_iDVKV"
      },
      "source": [
        "#### 28. What are the result of the following expressions?"
      ]
    },
    {
      "cell_type": "markdown",
      "metadata": {
        "id": "FusqUXZADVKW"
      },
      "source": [
        "```python\n",
        "np.array(0) / np.array(0)\n",
        "np.array(0) // np.array(0)\n",
        "np.array([np.nan]).astype(int).astype(float)\n",
        "```"
      ]
    },
    {
      "cell_type": "code",
      "execution_count": 28,
      "metadata": {
        "id": "F1GvLSlGDVKW",
        "outputId": "8f0209d2-7d6a-4206-8e4d-f22cdafe852b",
        "colab": {
          "base_uri": "https://localhost:8080/"
        }
      },
      "outputs": [
        {
          "output_type": "stream",
          "name": "stdout",
          "text": [
            "nan\n",
            "0\n",
            "[-9.22337204e+18]\n"
          ]
        },
        {
          "output_type": "stream",
          "name": "stderr",
          "text": [
            "/usr/local/lib/python3.7/dist-packages/ipykernel_launcher.py:1: RuntimeWarning: invalid value encountered in true_divide\n",
            "  \"\"\"Entry point for launching an IPython kernel.\n",
            "/usr/local/lib/python3.7/dist-packages/ipykernel_launcher.py:2: RuntimeWarning: divide by zero encountered in floor_divide\n",
            "  \n"
          ]
        }
      ],
      "source": [
        "print(np.array(0)/ np.array(0))\n",
        "print(np.array(0) // np.array(0))\n",
        "print(np.array([np.nan]).astype(int).astype(float))"
      ]
    },
    {
      "cell_type": "markdown",
      "metadata": {
        "id": "aazPx9PKDVKX"
      },
      "source": [
        "#### 29. How to round away from zero a float array ? (★☆☆) \n",
        "(**hint**: np.uniform, np.copysign, np.ceil, np.abs)"
      ]
    },
    {
      "cell_type": "code",
      "execution_count": 29,
      "metadata": {
        "id": "szeN2lNXDVKY",
        "outputId": "8fc98ccc-8dfb-4676-dfd1-31180e03c80d",
        "colab": {
          "base_uri": "https://localhost:8080/"
        }
      },
      "outputs": [
        {
          "output_type": "execute_result",
          "data": {
            "text/plain": [
              "array([ 9., -3.,  6.,  8., -6., -3., 10., -5., -6., 10.])"
            ]
          },
          "metadata": {},
          "execution_count": 29
        }
      ],
      "source": [
        "x = np.random.uniform(-10, +10, 10)\n",
        "np.copysign(np.ceil(np.abs(x)),x)"
      ]
    },
    {
      "cell_type": "markdown",
      "metadata": {
        "id": "-cxEyjVFDVKY"
      },
      "source": [
        "#### 30. How to find common values between two arrays? (★☆☆) \n",
        "(**hint**: np.intersect1d)"
      ]
    },
    {
      "cell_type": "code",
      "execution_count": 30,
      "metadata": {
        "id": "F7BVLTpMDVKZ",
        "outputId": "746cc61d-9da0-44bd-a979-9d88af4b4f62",
        "colab": {
          "base_uri": "https://localhost:8080/"
        }
      },
      "outputs": [
        {
          "output_type": "execute_result",
          "data": {
            "text/plain": [
              "array([ 8,  9, 10, 11])"
            ]
          },
          "metadata": {},
          "execution_count": 30
        }
      ],
      "source": [
        "x=np.arange(0,12)\n",
        "Y=np.arange(8,15)\n",
        "Z=np.intersect1d(x,Y)\n",
        "Z"
      ]
    },
    {
      "cell_type": "markdown",
      "metadata": {
        "id": "YpUViHlsDVKZ"
      },
      "source": [
        "#### 31. How to ignore all numpy warnings (not recommended)? (★☆☆) \n",
        "(**hint**: np.seterr, np.errstate)"
      ]
    },
    {
      "cell_type": "code",
      "execution_count": 31,
      "metadata": {
        "id": "fex8YoziDVKZ",
        "outputId": "9d0aedb2-dfb7-486f-f2cc-14061afcac90",
        "colab": {
          "base_uri": "https://localhost:8080/"
        }
      },
      "outputs": [
        {
          "output_type": "stream",
          "name": "stderr",
          "text": [
            "/usr/local/lib/python3.7/dist-packages/ipykernel_launcher.py:4: RuntimeWarning: divide by zero encountered in true_divide\n",
            "  after removing the cwd from sys.path.\n"
          ]
        }
      ],
      "source": [
        "np.seterr(all='ignore')\n",
        "X=np.arange(3)/0\n",
        "with np.errstate(divide='warn'):\n",
        "     X=np.arange(3)/0"
      ]
    },
    {
      "cell_type": "markdown",
      "metadata": {
        "id": "e6JXTvSaDVKZ"
      },
      "source": [
        "#### 32. Is the following expressions true? (★☆☆) \n",
        "(**hint**: imaginary number)"
      ]
    },
    {
      "cell_type": "markdown",
      "metadata": {
        "id": "QbK9XLjSDVKa"
      },
      "source": [
        "```python\n",
        "np.sqrt(-1) == np.emath.sqrt(-1)\n",
        "```"
      ]
    },
    {
      "cell_type": "code",
      "execution_count": 32,
      "metadata": {
        "id": "7Sz7tJOfDVKa",
        "outputId": "c3f2c0e6-226d-4862-8797-986305fbd43a",
        "colab": {
          "base_uri": "https://localhost:8080/"
        }
      },
      "outputs": [
        {
          "output_type": "execute_result",
          "data": {
            "text/plain": [
              "False"
            ]
          },
          "metadata": {},
          "execution_count": 32
        }
      ],
      "source": [
        "np.sqrt(-1) == np.emath.sqrt(-1)\n"
      ]
    },
    {
      "cell_type": "markdown",
      "metadata": {
        "id": "LVtmE6zJDVKa"
      },
      "source": [
        "#### 33. How to get the dates of yesterday, today and tomorrow? (★☆☆) \n",
        "(**hint**: np.datetime64, np.timedelta64)"
      ]
    },
    {
      "cell_type": "code",
      "execution_count": 33,
      "metadata": {
        "collapsed": true,
        "id": "8fO2jJRMDVKa",
        "outputId": "091c1457-f8b9-4e6f-d553-0700848258ea",
        "colab": {
          "base_uri": "https://localhost:8080/"
        }
      },
      "outputs": [
        {
          "output_type": "stream",
          "name": "stdout",
          "text": [
            "Today :  2022-11-27\n",
            "Yesterday :  2022-11-26\n",
            "Tomorrow :  2022-11-28\n"
          ]
        }
      ],
      "source": [
        "Today=np.datetime64('today','D')\n",
        "print('Today : ',Today)\n",
        "Yesterday=np.datetime64('today','D')-np.timedelta64(1,'D')\n",
        "print('Yesterday : ',Yesterday)\n",
        "Tomorrow=np.datetime64('today','D')+np.timedelta64(1,'D')\n",
        "print('Tomorrow : ',Tomorrow)"
      ]
    },
    {
      "cell_type": "markdown",
      "metadata": {
        "id": "Xm5kh5RgDVKb"
      },
      "source": [
        "#### 34. How to get all the dates corresponding to the month of July 2016? (★★☆) \n",
        "(**hint**: np.arange(dtype=datetime64\\['D'\\]))"
      ]
    },
    {
      "cell_type": "code",
      "execution_count": 34,
      "metadata": {
        "id": "jnhQ5dSgDVKb",
        "outputId": "629895df-0953-449b-9913-99f066401b98",
        "colab": {
          "base_uri": "https://localhost:8080/"
        }
      },
      "outputs": [
        {
          "output_type": "execute_result",
          "data": {
            "text/plain": [
              "array(['2016-07-01', '2016-07-02', '2016-07-03', '2016-07-04',\n",
              "       '2016-07-05', '2016-07-06', '2016-07-07', '2016-07-08',\n",
              "       '2016-07-09', '2016-07-10', '2016-07-11', '2016-07-12',\n",
              "       '2016-07-13', '2016-07-14', '2016-07-15', '2016-07-16',\n",
              "       '2016-07-17', '2016-07-18', '2016-07-19', '2016-07-20',\n",
              "       '2016-07-21', '2016-07-22', '2016-07-23', '2016-07-24',\n",
              "       '2016-07-25', '2016-07-26', '2016-07-27', '2016-07-28',\n",
              "       '2016-07-29', '2016-07-30', '2016-07-31'], dtype='datetime64[D]')"
            ]
          },
          "metadata": {},
          "execution_count": 34
        }
      ],
      "source": [
        "X=np.arange('2016-07','2016-08',dtype='datetime64[D]')\n",
        "X"
      ]
    },
    {
      "cell_type": "markdown",
      "metadata": {
        "id": "pBB_OyNJDVKb"
      },
      "source": [
        "#### 35. How to compute ((A+B)\\*(-A/2)) in place (without copy)? (★★☆) \n",
        "(**hint**: np.add(out=), np.negative(out=), np.multiply(out=), np.divide(out=))"
      ]
    },
    {
      "cell_type": "code",
      "execution_count": 35,
      "metadata": {
        "id": "hKXF4OVsDVKb",
        "outputId": "96f6aa1f-3ed3-4202-9610-4b91dfb43309",
        "colab": {
          "base_uri": "https://localhost:8080/"
        }
      },
      "outputs": [
        {
          "output_type": "execute_result",
          "data": {
            "text/plain": [
              "array([-1., -1., -1., -1., -1.])"
            ]
          },
          "metadata": {},
          "execution_count": 35
        }
      ],
      "source": [
        "A=np.ones(5)\n",
        "B=np.ones(5)\n",
        "np.add(A,B,out=B)\n",
        "np.divide(A,2,out=A)\n",
        "np.negative(A,out=A)\n",
        "np.multiply(B,A,out=A)"
      ]
    },
    {
      "cell_type": "markdown",
      "metadata": {
        "id": "7D3_DdxEDVKc"
      },
      "source": [
        "#### 36. Extract the integer part of a random array using 5 different methods (★★☆) \n",
        "(**hint**: %, np.floor, np.ceil, astype, np.trunc)"
      ]
    },
    {
      "cell_type": "code",
      "execution_count": 36,
      "metadata": {
        "id": "_aUT4DJBDVKc",
        "outputId": "1b059d01-3f5f-403e-a434-177950515ae4",
        "colab": {
          "base_uri": "https://localhost:8080/"
        }
      },
      "outputs": [
        {
          "output_type": "stream",
          "name": "stdout",
          "text": [
            "[ 1.49970944  1.02840302  4.20616367  8.43234114 10.63437841  7.58934853\n",
            "  1.33462597 10.70161327  8.84599991  9.65320163]\n",
            "[ 1.  1.  4.  8. 10.  7.  1. 10.  8.  9.]\n",
            "[ 1.  1.  4.  8. 10.  7.  1. 10.  8.  9.]\n",
            "[ 1.  1.  4.  8. 10.  7.  1. 10.  8.  9.]\n",
            "[ 1  1  4  8 10  7  1 10  8  9]\n",
            "[ 1.  1.  4.  8. 10.  7.  1. 10.  8.  9.]\n"
          ]
        }
      ],
      "source": [
        "X=np.random.uniform(0,12,10)\n",
        "print(X)\n",
        "print(X-(X%1))\n",
        "print(np.floor(X))\n",
        "print(np.ceil(X)-1)\n",
        "print(X.astype(int))\n",
        "print(np.trunc(X))"
      ]
    },
    {
      "cell_type": "markdown",
      "metadata": {
        "id": "Y4nWEUynDVKc"
      },
      "source": [
        "#### 37. Create a 5x5 matrix with row values ranging from 0 to 4 (★★☆) \n",
        "(**hint**: np.arange)"
      ]
    },
    {
      "cell_type": "code",
      "execution_count": 37,
      "metadata": {
        "id": "RP12j3SfDVKd",
        "outputId": "f9d91922-b992-44b0-f41b-d2e09f1a7c5c",
        "colab": {
          "base_uri": "https://localhost:8080/"
        }
      },
      "outputs": [
        {
          "output_type": "execute_result",
          "data": {
            "text/plain": [
              "array([[0., 1., 2., 3., 4.],\n",
              "       [0., 1., 2., 3., 4.],\n",
              "       [0., 1., 2., 3., 4.],\n",
              "       [0., 1., 2., 3., 4.],\n",
              "       [0., 1., 2., 3., 4.]])"
            ]
          },
          "metadata": {},
          "execution_count": 37
        }
      ],
      "source": [
        "Z=np.zeros((5,5))\n",
        "Z+=np.arange(0,5)\n",
        "Z"
      ]
    },
    {
      "cell_type": "markdown",
      "metadata": {
        "id": "t0Ln8fhHDVKe"
      },
      "source": [
        "#### 38. Consider a generator function that generates 10 integers and use it to build an array (★☆☆) \n",
        "(**hint**: np.fromiter)"
      ]
    },
    {
      "cell_type": "code",
      "execution_count": 38,
      "metadata": {
        "id": "cPjdA_VIDVKe"
      },
      "outputs": [],
      "source": [
        "def generate():\n",
        "     for x in range(10):\n",
        "         yield x"
      ]
    },
    {
      "cell_type": "markdown",
      "metadata": {
        "id": "Q-_Z1c4pDVKe"
      },
      "source": [
        "#### 39. Create a vector of size 10 with values ranging from 0 to 1, both excluded (★★☆) \n",
        "(**hint**: np.linspace)"
      ]
    },
    {
      "cell_type": "code",
      "execution_count": 39,
      "metadata": {
        "id": "YnbbFyB5DVKe",
        "outputId": "b8217eec-16e9-450b-b24c-c40be17c5609",
        "colab": {
          "base_uri": "https://localhost:8080/"
        }
      },
      "outputs": [
        {
          "output_type": "stream",
          "name": "stdout",
          "text": [
            "[0.09090909 0.18181818 0.27272727 0.36363636 0.45454545 0.54545455\n",
            " 0.63636364 0.72727273 0.81818182 0.90909091]\n"
          ]
        }
      ],
      "source": [
        "Z = np.linspace(0,1,11,endpoint=False)[1:]\n",
        "print(Z)"
      ]
    },
    {
      "cell_type": "markdown",
      "metadata": {
        "id": "SdL2MtMEDVKf"
      },
      "source": [
        "#### 40. Create a random vector of size 10 and sort it (★★☆) \n",
        "(**hint**: sort)"
      ]
    },
    {
      "cell_type": "code",
      "execution_count": 40,
      "metadata": {
        "id": "bEI-N6lTDVKf",
        "outputId": "09b78919-0cb5-476c-ba2e-ee9627e78673",
        "colab": {
          "base_uri": "https://localhost:8080/"
        }
      },
      "outputs": [
        {
          "output_type": "stream",
          "name": "stdout",
          "text": [
            "[59 28 71 51 43 76 53 27 49 68]\n"
          ]
        },
        {
          "output_type": "execute_result",
          "data": {
            "text/plain": [
              "array([27, 28, 43, 49, 51, 53, 59, 68, 71, 76])"
            ]
          },
          "metadata": {},
          "execution_count": 40
        }
      ],
      "source": [
        "x=np.random.randint(23,78,10)\n",
        "print(x)\n",
        "np.sort(x)"
      ]
    },
    {
      "cell_type": "markdown",
      "metadata": {
        "id": "kJNxSJCjDVKf"
      },
      "source": [
        "#### 41. How to sum a small array faster than np.sum? (★★☆) \n",
        "(**hint**: np.add.reduce)"
      ]
    },
    {
      "cell_type": "code",
      "execution_count": 41,
      "metadata": {
        "id": "mKfvKJ5PDVKf",
        "outputId": "73ffbf45-825f-47bb-907f-63206ad04cd7",
        "colab": {
          "base_uri": "https://localhost:8080/"
        }
      },
      "outputs": [
        {
          "output_type": "stream",
          "name": "stdout",
          "text": [
            "3.7627220153808594\n",
            "3.756999969482422\n"
          ]
        }
      ],
      "source": [
        "import time\n",
        "\n",
        "begin_time = time.time()\n",
        "x = np.arange(1000000)\n",
        "np.sum(x)\n",
        "end_time = time.time()\n",
        "print(str(1000*(end_time - begin_time)))\n",
        "\n",
        "begin_time2 = time.time()\n",
        "x = np.arange(1000000)\n",
        "np.add.reduce(x)\n",
        "end_time2 = time.time()\n",
        "print(str(1000*(end_time2 - begin_time2)))"
      ]
    },
    {
      "cell_type": "markdown",
      "metadata": {
        "id": "vYRDpc4dDVKg"
      },
      "source": [
        "#### 42. Consider two random array A and B, check if they are equal (★★☆) \n",
        "(**hint**: np.allclose, np.array\\_equal)"
      ]
    },
    {
      "cell_type": "code",
      "execution_count": 42,
      "metadata": {
        "id": "CIaN-XyIDVKg",
        "outputId": "82b750c4-c6fe-48bf-acd8-ab3a404dfea0",
        "colab": {
          "base_uri": "https://localhost:8080/"
        }
      },
      "outputs": [
        {
          "output_type": "stream",
          "name": "stdout",
          "text": [
            "False\n",
            "False\n"
          ]
        }
      ],
      "source": [
        "x=np.random.randint(0,2,5)\n",
        "y=np.random.randint(0,2,5)\n",
        "z=np.array_equal(x,y)\n",
        "print(z)\n",
        "z=np.allclose(x,y)\n",
        "print(z)"
      ]
    },
    {
      "cell_type": "markdown",
      "metadata": {
        "id": "RTx3BiwDDVKg"
      },
      "source": [
        "#### 43. Make an array immutable (read-only) (★★☆) \n",
        "(**hint**: flags.writeable)"
      ]
    },
    {
      "cell_type": "code",
      "execution_count": 45,
      "metadata": {
        "id": "PD8c6KXVDVKg"
      },
      "outputs": [],
      "source": [
        "x=np.random.randint(12,34,10)\n",
        "x.flags.writeable=True\n",
        "x[1]=2"
      ]
    },
    {
      "cell_type": "markdown",
      "metadata": {
        "id": "PQUAjAdLDVKg"
      },
      "source": [
        "#### 44. Consider a random 10x2 matrix representing cartesian coordinates, convert them to polar coordinates (★★☆) \n",
        "(**hint**: np.sqrt, np.arctan2)"
      ]
    },
    {
      "cell_type": "code",
      "execution_count": 46,
      "metadata": {
        "id": "hIob0NGEDVKh",
        "outputId": "c36eef21-a451-499b-e8bd-ff143f217442",
        "colab": {
          "base_uri": "https://localhost:8080/"
        }
      },
      "outputs": [
        {
          "output_type": "stream",
          "name": "stdout",
          "text": [
            "[1.04176441 0.84978356 0.82158366 0.65367592 0.21853757 0.84619211\n",
            " 1.09350138 0.99540896 0.79202883 0.9232441 ]\n",
            "[0.68774499 0.77193359 0.32779665 0.80809585 0.94384672 0.27902953\n",
            " 0.44607585 0.12355102 1.37822661 0.97272354]\n"
          ]
        }
      ],
      "source": [
        "z=np.random.random((10,2))\n",
        "x,y=z[:,0],z[:,1]\n",
        "r=np.sqrt(x**2+y**2)\n",
        "t=np.arctan2(y,x)\n",
        "print(r)\n",
        "print(t)"
      ]
    },
    {
      "cell_type": "markdown",
      "metadata": {
        "id": "AQfgg1TIDVKh"
      },
      "source": [
        "#### 45. Create random vector of size 10 and replace the maximum value by 0 (★★☆) \n",
        "(**hint**: argmax)"
      ]
    },
    {
      "cell_type": "code",
      "execution_count": 47,
      "metadata": {
        "id": "uQguBweRDVKh",
        "outputId": "88e26461-f35e-4c9e-da6b-b106c77db37d",
        "colab": {
          "base_uri": "https://localhost:8080/"
        }
      },
      "outputs": [
        {
          "output_type": "stream",
          "name": "stdout",
          "text": [
            "[0.65534168 0.75261673 0.55354496 0.01209672 0.31760772 0.93148015\n",
            " 0.89426152 0.17244374 0.47528504 0.00110588]\n"
          ]
        },
        {
          "output_type": "execute_result",
          "data": {
            "text/plain": [
              "array([0.65534168, 0.75261673, 0.55354496, 0.01209672, 0.31760772,\n",
              "       0.        , 0.89426152, 0.17244374, 0.47528504, 0.00110588])"
            ]
          },
          "metadata": {},
          "execution_count": 47
        }
      ],
      "source": [
        "x=np.random.random(10)\n",
        "print(x)\n",
        "t=np.argmax(x)\n",
        "x[t]=0\n",
        "x"
      ]
    },
    {
      "cell_type": "markdown",
      "metadata": {
        "id": "3Q_nyva2DVKh"
      },
      "source": [
        "#### 46. Create a structured array with `x` and `y` coordinates covering the \\[0,1\\]x\\[0,1\\] area (★★☆) \n",
        "(**hint**: np.meshgrid)"
      ]
    },
    {
      "cell_type": "code",
      "execution_count": 48,
      "metadata": {
        "id": "1D9GefZWDVKi",
        "outputId": "3164cb90-89a5-40e3-dd97-a345070f8893",
        "colab": {
          "base_uri": "https://localhost:8080/"
        }
      },
      "outputs": [
        {
          "output_type": "stream",
          "name": "stdout",
          "text": [
            "[[(0.  , 0.  ) (0.25, 0.  ) (0.5 , 0.  ) (0.75, 0.  ) (1.  , 0.  )]\n",
            " [(0.  , 0.25) (0.25, 0.25) (0.5 , 0.25) (0.75, 0.25) (1.  , 0.25)]\n",
            " [(0.  , 0.5 ) (0.25, 0.5 ) (0.5 , 0.5 ) (0.75, 0.5 ) (1.  , 0.5 )]\n",
            " [(0.  , 0.75) (0.25, 0.75) (0.5 , 0.75) (0.75, 0.75) (1.  , 0.75)]\n",
            " [(0.  , 1.  ) (0.25, 1.  ) (0.5 , 1.  ) (0.75, 1.  ) (1.  , 1.  )]]\n"
          ]
        }
      ],
      "source": [
        "Z = np.zeros((5,5), [('x',float),('y',float)])\n",
        "Z['x'],Z['y']=np.meshgrid(np.linspace(0,1,5),np.linspace(0,1,5))\n",
        "print(Z)"
      ]
    },
    {
      "cell_type": "markdown",
      "metadata": {
        "id": "cQkPQY9-DVKi"
      },
      "source": [
        "####  47. Given two arrays, X and Y, construct the Cauchy matrix C (Cij =1/(xi - yj)) \n",
        "(**hint**: np.subtract.outer)"
      ]
    },
    {
      "cell_type": "code",
      "execution_count": 49,
      "metadata": {
        "id": "bqDyTq63DVKi",
        "outputId": "9dd56e74-5835-4de6-e036-215f2101c050",
        "colab": {
          "base_uri": "https://localhost:8080/"
        }
      },
      "outputs": [
        {
          "output_type": "stream",
          "name": "stdout",
          "text": [
            "3638.163637117973\n"
          ]
        }
      ],
      "source": [
        "X = np.arange(8)\n",
        "Y = X + 0.5\n",
        "C = 1.0 / np.subtract.outer(X, Y)\n",
        "print(np.linalg.det(C))"
      ]
    },
    {
      "cell_type": "markdown",
      "metadata": {
        "id": "s5HxJ_C8DVKi"
      },
      "source": [
        "#### 48. Print the minimum and maximum representable value for each numpy scalar type (★★☆) \n",
        "(**hint**: np.iinfo, np.finfo, eps)"
      ]
    },
    {
      "cell_type": "code",
      "execution_count": 50,
      "metadata": {
        "id": "Db3oLS5WDVKj",
        "outputId": "219aae7d-0f9d-42d0-890d-094438ded8ec",
        "colab": {
          "base_uri": "https://localhost:8080/"
        }
      },
      "outputs": [
        {
          "output_type": "stream",
          "name": "stdout",
          "text": [
            "-128\n",
            "127\n",
            "-2147483648\n",
            "2147483647\n",
            "-9223372036854775808\n",
            "9223372036854775807\n",
            "-3.4028235e+38\n",
            "3.4028235e+38\n",
            "1.1920929e-07\n",
            "-1.7976931348623157e+308\n",
            "1.7976931348623157e+308\n",
            "2.220446049250313e-16\n"
          ]
        }
      ],
      "source": [
        "for dtype in [np.int8, np.int32, np.int64]:\n",
        "   print(np.iinfo(dtype).min)\n",
        "   print(np.iinfo(dtype).max)\n",
        "for dtype in [np.float32, np.float64]:\n",
        "   print(np.finfo(dtype).min)\n",
        "   print(np.finfo(dtype).max)\n",
        "   print(np.finfo(dtype).eps)"
      ]
    },
    {
      "cell_type": "markdown",
      "metadata": {
        "id": "b3WaUWvWDVKj"
      },
      "source": [
        "#### 49. How to print all the values of an array? (★★☆) \n",
        "(**hint**: np.set\\_printoptions)"
      ]
    },
    {
      "cell_type": "code",
      "execution_count": 51,
      "metadata": {
        "id": "nQCKhx9iDVKk",
        "outputId": "d7952c7f-ce00-4cab-9e0a-40ee8682602c",
        "colab": {
          "base_uri": "https://localhost:8080/"
        }
      },
      "outputs": [
        {
          "output_type": "stream",
          "name": "stdout",
          "text": [
            "[[0. 0. 0. 0. 0. 0. 0. 0. 0. 0. 0. 0. 0. 0. 0. 0.]\n",
            " [0. 0. 0. 0. 0. 0. 0. 0. 0. 0. 0. 0. 0. 0. 0. 0.]\n",
            " [0. 0. 0. 0. 0. 0. 0. 0. 0. 0. 0. 0. 0. 0. 0. 0.]\n",
            " [0. 0. 0. 0. 0. 0. 0. 0. 0. 0. 0. 0. 0. 0. 0. 0.]\n",
            " [0. 0. 0. 0. 0. 0. 0. 0. 0. 0. 0. 0. 0. 0. 0. 0.]\n",
            " [0. 0. 0. 0. 0. 0. 0. 0. 0. 0. 0. 0. 0. 0. 0. 0.]\n",
            " [0. 0. 0. 0. 0. 0. 0. 0. 0. 0. 0. 0. 0. 0. 0. 0.]\n",
            " [0. 0. 0. 0. 0. 0. 0. 0. 0. 0. 0. 0. 0. 0. 0. 0.]\n",
            " [0. 0. 0. 0. 0. 0. 0. 0. 0. 0. 0. 0. 0. 0. 0. 0.]\n",
            " [0. 0. 0. 0. 0. 0. 0. 0. 0. 0. 0. 0. 0. 0. 0. 0.]\n",
            " [0. 0. 0. 0. 0. 0. 0. 0. 0. 0. 0. 0. 0. 0. 0. 0.]\n",
            " [0. 0. 0. 0. 0. 0. 0. 0. 0. 0. 0. 0. 0. 0. 0. 0.]\n",
            " [0. 0. 0. 0. 0. 0. 0. 0. 0. 0. 0. 0. 0. 0. 0. 0.]\n",
            " [0. 0. 0. 0. 0. 0. 0. 0. 0. 0. 0. 0. 0. 0. 0. 0.]\n",
            " [0. 0. 0. 0. 0. 0. 0. 0. 0. 0. 0. 0. 0. 0. 0. 0.]\n",
            " [0. 0. 0. 0. 0. 0. 0. 0. 0. 0. 0. 0. 0. 0. 0. 0.]]\n"
          ]
        }
      ],
      "source": [
        "np.set_printoptions(threshold=np.inf)\n",
        "Z = np.zeros((16,16))\n",
        "print(Z)"
      ]
    },
    {
      "cell_type": "markdown",
      "metadata": {
        "id": "gEejMfc8DVKk"
      },
      "source": [
        "#### 50. How to find the closest value (to a given scalar) in a vector? (★★☆) \n",
        "(**hint**: argmin)"
      ]
    },
    {
      "cell_type": "code",
      "execution_count": 52,
      "metadata": {
        "id": "wDH-D719DVKk",
        "outputId": "f964b90a-1751-4148-c93b-8927dd4565e0",
        "colab": {
          "base_uri": "https://localhost:8080/"
        }
      },
      "outputs": [
        {
          "output_type": "stream",
          "name": "stdout",
          "text": [
            "Original array:\n",
            "[ 0  1  2  3  4  5  6  7  8  9 10 11 12 13 14 15 16 17 18 19 20 21 22 23\n",
            " 24 25 26 27 28 29 30 31 32 33 34 35 36 37 38 39 40 41 42 43 44 45 46 47\n",
            " 48 49 50 51 52 53 54 55 56 57 58 59 60 61 62 63 64 65 66 67 68 69 70 71\n",
            " 72 73 74 75 76 77 78 79 80 81 82 83 84 85 86 87 88 89 90 91 92 93 94 95\n",
            " 96 97 98 99]\n",
            "Value to compare:\n",
            "82.97613888254483\n",
            "83\n"
          ]
        }
      ],
      "source": [
        "x = np.arange(100)\n",
        "print(\"Original array:\")\n",
        "print(x)\n",
        "a = np.random.uniform(0,100)\n",
        "print(\"Value to compare:\")\n",
        "print(a)\n",
        "index = (np.abs(x-a)).argmin()\n",
        "print(x[index])"
      ]
    },
    {
      "cell_type": "markdown",
      "metadata": {
        "id": "M7aTzi30DVKk"
      },
      "source": [
        "#### 51. Create a structured array representing a position (x,y) and a color (r,g,b) (★★☆) \n",
        "(**hint**: dtype)"
      ]
    },
    {
      "cell_type": "code",
      "execution_count": 53,
      "metadata": {
        "id": "4jx1DPxQDVKl",
        "outputId": "a340d61b-db83-4799-dd7f-247718972367",
        "colab": {
          "base_uri": "https://localhost:8080/"
        }
      },
      "outputs": [
        {
          "output_type": "stream",
          "name": "stdout",
          "text": [
            "[((0., 0.), (0., 0., 0.)) ((0., 0.), (0., 0., 0.))\n",
            " ((0., 0.), (0., 0., 0.)) ((0., 0.), (0., 0., 0.))\n",
            " ((0., 0.), (0., 0., 0.)) ((0., 0.), (0., 0., 0.))\n",
            " ((0., 0.), (0., 0., 0.)) ((0., 0.), (0., 0., 0.))\n",
            " ((0., 0.), (0., 0., 0.)) ((0., 0.), (0., 0., 0.))]\n"
          ]
        },
        {
          "output_type": "stream",
          "name": "stderr",
          "text": [
            "/usr/local/lib/python3.7/dist-packages/ipykernel_launcher.py:5: FutureWarning: Passing (type, 1) or '1type' as a synonym of type is deprecated; in a future version of numpy, it will be understood as (type, (1,)) / '(1,)type'.\n",
            "  \"\"\"\n"
          ]
        }
      ],
      "source": [
        "Z = np.zeros(10, [ ('position', [ ('x', float, 1),\n",
        "                                  ('y', float, 1)]),\n",
        "                   ('color',    [ ('r', float, 1),\n",
        "                                  ('g', float, 1),\n",
        "                                  ('b', float, 1)])])\n",
        "print(Z)"
      ]
    },
    {
      "cell_type": "markdown",
      "metadata": {
        "id": "9yAMy5AEDVKl"
      },
      "source": [
        "#### 52. Consider a random vector with shape (100,2) representing coordinates, find point by point distances (★★☆) \n",
        "(**hint**: np.atleast\\_2d, T, np.sqrt)"
      ]
    },
    {
      "cell_type": "code",
      "execution_count": 54,
      "metadata": {
        "id": "c5U3E6vnDVKl",
        "outputId": "94079859-6d49-4cc4-e78a-af22229e9196",
        "colab": {
          "base_uri": "https://localhost:8080/"
        }
      },
      "outputs": [
        {
          "output_type": "execute_result",
          "data": {
            "text/plain": [
              "array([[0.        , 0.4107576 , 0.53891336, 0.62433102, 0.1775986 ,\n",
              "        0.40487756, 0.40299991, 0.3161004 , 0.64924575, 0.35350684],\n",
              "       [0.4107576 , 0.        , 0.92390817, 0.48421528, 0.38541145,\n",
              "        0.80947371, 0.30874065, 0.51527181, 0.25671287, 0.53950219],\n",
              "       [0.53891336, 0.92390817, 0.        , 0.9067395 , 0.68095476,\n",
              "        0.17028225, 0.93108668, 0.74074216, 1.12546689, 0.49544762],\n",
              "       [0.62433102, 0.48421528, 0.9067395 , 0.        , 0.72965324,\n",
              "        0.87640081, 0.77429627, 0.89029337, 0.43894963, 0.41242656],\n",
              "       [0.1775986 , 0.38541145, 0.68095476, 0.72965324, 0.        ,\n",
              "        0.52693421, 0.25270006, 0.16124935, 0.64202323, 0.52298291],\n",
              "       [0.40487756, 0.80947371, 0.17028225, 0.87640081, 0.52693421,\n",
              "        0.        , 0.77945585, 0.57373459, 1.03114963, 0.47084812],\n",
              "       [0.40299991, 0.30874065, 0.93108668, 0.77429627, 0.25270006,\n",
              "        0.77945585, 0.        , 0.28516518, 0.53366292, 0.69679659],\n",
              "       [0.3161004 , 0.51527181, 0.74074216, 0.89029337, 0.16124935,\n",
              "        0.57373459, 0.28516518, 0.        , 0.76925146, 0.66957002],\n",
              "       [0.64924575, 0.25671287, 1.12546689, 0.43894963, 0.64202323,\n",
              "        1.03114963, 0.53366292, 0.76925146, 0.        , 0.67699718],\n",
              "       [0.35350684, 0.53950219, 0.49544762, 0.41242656, 0.52298291,\n",
              "        0.47084812, 0.69679659, 0.66957002, 0.67699718, 0.        ]])"
            ]
          },
          "metadata": {},
          "execution_count": 54
        }
      ],
      "source": [
        "a= np.random.random((10,2))\n",
        "x,y = np.atleast_2d(a[:,0], a[:,1])\n",
        "d = np.sqrt( (x-x.T)**2 + (y-y.T)**2)\n",
        "d"
      ]
    },
    {
      "cell_type": "markdown",
      "metadata": {
        "id": "zF-eR43HDVKl"
      },
      "source": [
        "#### 53. How to convert a float (32 bits) array into an integer (32 bits) in place? \n",
        "(**hint**: astype(copy=False))"
      ]
    },
    {
      "cell_type": "code",
      "execution_count": 55,
      "metadata": {
        "id": "6o6mUjl8DVKm",
        "outputId": "c3d04502-7cbd-4c0d-85f9-83b2aad8732b",
        "colab": {
          "base_uri": "https://localhost:8080/"
        }
      },
      "outputs": [
        {
          "output_type": "stream",
          "name": "stdout",
          "text": [
            "[0. 1. 2. 3. 4. 5. 6. 7. 8. 9.]\n"
          ]
        },
        {
          "output_type": "execute_result",
          "data": {
            "text/plain": [
              "array([0, 1, 2, 3, 4, 5, 6, 7, 8, 9], dtype=int32)"
            ]
          },
          "metadata": {},
          "execution_count": 55
        }
      ],
      "source": [
        "Z = np.arange(10, dtype=np.float32)\n",
        "print(Z)\n",
        "Z=Z.astype(np.int32, copy=False)\n",
        "Z"
      ]
    },
    {
      "cell_type": "markdown",
      "metadata": {
        "id": "3higKQq8DVKm"
      },
      "source": [
        "#### 54. How to read the following file? (★★☆) \n",
        "(**hint**: np.genfromtxt)"
      ]
    },
    {
      "cell_type": "markdown",
      "metadata": {
        "id": "-_D_KSWUDVKm"
      },
      "source": [
        "```\n",
        "1, 2, 3, 4, 5\n",
        "6,  ,  , 7, 8\n",
        " ,  , 9,10,11\n",
        "```"
      ]
    },
    {
      "cell_type": "code",
      "execution_count": 56,
      "metadata": {
        "id": "9V1LXF1pDVKq",
        "outputId": "eda6274c-5bf0-4b1c-f9c3-885a33c60490",
        "colab": {
          "base_uri": "https://localhost:8080/"
        }
      },
      "outputs": [
        {
          "output_type": "stream",
          "name": "stdout",
          "text": [
            "[[ 1  2  3  4  5]\n",
            " [ 6 -1 -1  7  8]\n",
            " [-1 -1  9 10 11]]\n"
          ]
        },
        {
          "output_type": "stream",
          "name": "stderr",
          "text": [
            "/usr/local/lib/python3.7/dist-packages/ipykernel_launcher.py:6: DeprecationWarning: `np.int` is a deprecated alias for the builtin `int`. To silence this warning, use `int` by itself. Doing this will not modify any behavior and is safe. When replacing `np.int`, you may wish to use e.g. `np.int64` or `np.int32` to specify the precision. If you wish to review your current use, check the release note link for additional information.\n",
            "Deprecated in NumPy 1.20; for more details and guidance: https://numpy.org/devdocs/release/1.20.0-notes.html#deprecations\n",
            "  \n"
          ]
        }
      ],
      "source": [
        "from io import StringIO\n",
        "\n",
        "s = StringIO(\"\"\"1, 2, 3, 4, 5\n",
        "                6,  ,  , 7, 8\n",
        "                 ,  , 9,10,11\"\"\")\n",
        "Z = np.genfromtxt(s, delimiter=\",\", dtype=np.int)\n",
        "print(Z)"
      ]
    },
    {
      "cell_type": "markdown",
      "metadata": {
        "id": "-BoUaPMPDVK0"
      },
      "source": [
        "#### 55. What is the equivalent of enumerate for numpy arrays? (★★☆) \n",
        "(**hint**: np.ndenumerate, np.ndindex)"
      ]
    },
    {
      "cell_type": "code",
      "execution_count": 57,
      "metadata": {
        "id": "mN2nQw4kDVK1",
        "outputId": "5fd68840-6f1b-4db4-912d-3499b12b25ac",
        "colab": {
          "base_uri": "https://localhost:8080/"
        }
      },
      "outputs": [
        {
          "output_type": "stream",
          "name": "stdout",
          "text": [
            "[[0 1 2]\n",
            " [3 4 5]\n",
            " [6 7 8]]\n",
            "Using ndenumerate : \n",
            " [((0, 0), 0), ((0, 1), 1), ((0, 2), 2), ((1, 0), 3), ((1, 1), 4), ((1, 2), 5), ((2, 0), 6), ((2, 1), 7), ((2, 2), 8)] \n",
            "\n",
            "Using np.ndindex : \n",
            "\n",
            "[((0, 0), 0), ((0, 1), 1), ((0, 2), 2), ((1, 0), 3), ((1, 1), 4), ((1, 2), 5), ((2, 0), 6), ((2, 1), 7), ((2, 2), 8)]\n"
          ]
        }
      ],
      "source": [
        "Z = np.arange(9).reshape(3,3)\n",
        "print(Z)\n",
        "print(\"Using ndenumerate : \\n\", list(np.ndenumerate(Z)),'\\n')\n",
        "print(\"Using np.ndindex : \\n\")\n",
        "l=[]\n",
        "for index in np.ndindex(Z.shape):\n",
        "    l.append((index, Z[index]))\n",
        "print(l)"
      ]
    },
    {
      "cell_type": "markdown",
      "metadata": {
        "id": "yBtdDBR0DVK1"
      },
      "source": [
        "#### 56. Generate a generic 2D Gaussian-like array (★★☆) \n",
        "(**hint**: np.meshgrid, np.exp)"
      ]
    },
    {
      "cell_type": "code",
      "execution_count": 58,
      "metadata": {
        "id": "0JwRmkcxDVK1",
        "outputId": "e5be8699-2f4f-40ca-9980-b13990a7cb2f",
        "colab": {
          "base_uri": "https://localhost:8080/"
        }
      },
      "outputs": [
        {
          "output_type": "stream",
          "name": "stdout",
          "text": [
            "[[0.36787944 0.44822088 0.51979489 0.57375342 0.60279818 0.60279818\n",
            "  0.57375342 0.51979489 0.44822088 0.36787944]\n",
            " [0.44822088 0.54610814 0.63331324 0.69905581 0.73444367 0.73444367\n",
            "  0.69905581 0.63331324 0.54610814 0.44822088]\n",
            " [0.51979489 0.63331324 0.73444367 0.81068432 0.85172308 0.85172308\n",
            "  0.81068432 0.73444367 0.63331324 0.51979489]\n",
            " [0.57375342 0.69905581 0.81068432 0.89483932 0.9401382  0.9401382\n",
            "  0.89483932 0.81068432 0.69905581 0.57375342]\n",
            " [0.60279818 0.73444367 0.85172308 0.9401382  0.98773022 0.98773022\n",
            "  0.9401382  0.85172308 0.73444367 0.60279818]\n",
            " [0.60279818 0.73444367 0.85172308 0.9401382  0.98773022 0.98773022\n",
            "  0.9401382  0.85172308 0.73444367 0.60279818]\n",
            " [0.57375342 0.69905581 0.81068432 0.89483932 0.9401382  0.9401382\n",
            "  0.89483932 0.81068432 0.69905581 0.57375342]\n",
            " [0.51979489 0.63331324 0.73444367 0.81068432 0.85172308 0.85172308\n",
            "  0.81068432 0.73444367 0.63331324 0.51979489]\n",
            " [0.44822088 0.54610814 0.63331324 0.69905581 0.73444367 0.73444367\n",
            "  0.69905581 0.63331324 0.54610814 0.44822088]\n",
            " [0.36787944 0.44822088 0.51979489 0.57375342 0.60279818 0.60279818\n",
            "  0.57375342 0.51979489 0.44822088 0.36787944]]\n"
          ]
        }
      ],
      "source": [
        "X, Y = np.meshgrid(np.linspace(-1,1,10), np.linspace(-1,1,10))\n",
        "D = np.sqrt(X*X+Y*Y)\n",
        "sigma, mu = 1.0, 0.0\n",
        "G = np.exp(-( (D-mu)**2 / ( 2.0 * sigma**2 ) ) )\n",
        "print(G)"
      ]
    },
    {
      "cell_type": "markdown",
      "metadata": {
        "id": "ypnDz-bNDVK1"
      },
      "source": [
        "#### 57. How to randomly place p elements in a 2D array? (★★☆) \n",
        "(**hint**: np.put, np.random.choice)"
      ]
    },
    {
      "cell_type": "code",
      "execution_count": 59,
      "metadata": {
        "id": "4Y3DYleMDVK1",
        "outputId": "e0bb068e-47cf-4920-f69f-62efd58ebf91",
        "colab": {
          "base_uri": "https://localhost:8080/"
        }
      },
      "outputs": [
        {
          "output_type": "stream",
          "name": "stdout",
          "text": [
            "[[ 0.  0.  0.  0.  0.  0.  0.  0.  0.  0.]\n",
            " [ 0.  0.  0.  0.  0.  0.  0.  0.  0.  0.]\n",
            " [ 0.  0.  0.  0.  0.  0.  0.  0.  0.  0.]\n",
            " [78.  0.  0.  0.  0.  0.  0.  0.  0.  0.]\n",
            " [ 0.  0.  0.  0.  0.  0.  0.  0.  0.  0.]\n",
            " [ 0.  0.  0.  0.  0.  0.  0.  0.  0.  0.]\n",
            " [ 0.  0.  0.  0. 33.  0.  0.  0.  0.  0.]\n",
            " [ 0.  0.  0.  0.  0.  0.  0.  0.  0.  0.]\n",
            " [ 0.  0.  0.  0.  0.  0.  0.  0.  0.  0.]\n",
            " [ 0.  0.  0.  0.  0. 55.  0.  0.  0.  0.]]\n"
          ]
        }
      ],
      "source": [
        "n = 10\n",
        "p = 3\n",
        "Z = np.zeros((n,n))\n",
        "t= np.random.choice(range(n*n), p, replace=False)\n",
        "np.put(Z,t,[33,55,78])\n",
        "print(Z)"
      ]
    },
    {
      "cell_type": "markdown",
      "metadata": {
        "id": "Ean5_r3qDVK2"
      },
      "source": [
        "#### 58. Subtract the mean of each row of a matrix (★★☆) \n",
        "(**hint**: mean(axis=,keepdims=))"
      ]
    },
    {
      "cell_type": "code",
      "execution_count": 60,
      "metadata": {
        "id": "NG1KXcYXDVK2",
        "outputId": "64b8473c-385d-4007-cca9-7d755c02efb4",
        "colab": {
          "base_uri": "https://localhost:8080/"
        }
      },
      "outputs": [
        {
          "output_type": "execute_result",
          "data": {
            "text/plain": [
              "array([[-2.71221139e-01, -6.11900294e-02,  6.69098762e-02,\n",
              "        -4.21001985e-02,  3.86387378e-01, -2.90716250e-01,\n",
              "         2.48350906e-01,  4.31320229e-03,  3.44189636e-01,\n",
              "        -3.84923382e-01],\n",
              "       [-9.25308801e-03,  1.05303415e-01, -2.51988095e-01,\n",
              "        -2.01931274e-01, -1.83951914e-01,  1.46776907e-04,\n",
              "         2.69225630e-01, -3.14485052e-01,  1.81553242e-01,\n",
              "         4.05380359e-01],\n",
              "       [ 1.78543530e-01,  1.20556936e-01,  9.63813399e-02,\n",
              "         2.35921951e-01, -1.57630009e-03,  2.67232608e-01,\n",
              "        -1.53329497e-01, -5.54010966e-01, -2.85606085e-01,\n",
              "         9.58864824e-02],\n",
              "       [ 1.62431357e-01, -2.17899467e-01, -2.63352603e-01,\n",
              "        -5.76696005e-02, -4.72368916e-03, -3.13576924e-01,\n",
              "         7.26344211e-02,  1.80814491e-01, -9.26845367e-02,\n",
              "         5.34026552e-01],\n",
              "       [ 4.16619632e-01,  2.41410811e-01, -2.15891357e-01,\n",
              "        -1.41011130e-01, -3.62801173e-01, -2.76051984e-01,\n",
              "         5.71762742e-02, -1.24136995e-01,  3.89017458e-03,\n",
              "         4.00795747e-01]])"
            ]
          },
          "metadata": {},
          "execution_count": 60
        }
      ],
      "source": [
        "X = np.random.rand(5, 10)\n",
        "Y = X - X.mean(axis=1, keepdims=True)\n",
        "Y"
      ]
    },
    {
      "cell_type": "markdown",
      "metadata": {
        "id": "yMOx1b-uDVK2"
      },
      "source": [
        "#### 59. How to sort an array by the nth column? (★★☆) \n",
        "(**hint**: argsort)"
      ]
    },
    {
      "cell_type": "code",
      "execution_count": 61,
      "metadata": {
        "id": "7NoLeZ9iDVK2",
        "outputId": "abe75219-b389-4a4d-b288-25c44fbc0427",
        "colab": {
          "base_uri": "https://localhost:8080/"
        }
      },
      "outputs": [
        {
          "output_type": "stream",
          "name": "stdout",
          "text": [
            "[[6 1 0]\n",
            " [3 9 7]\n",
            " [5 0 2]] \n",
            "\n",
            "[1 9 0] \n",
            "\n",
            "[2 0 1] \n",
            "\n",
            "[[5 0 2]\n",
            " [6 1 0]\n",
            " [3 9 7]]\n"
          ]
        }
      ],
      "source": [
        "A= np.random.randint(0,10,(3,3))\n",
        "print(A,'\\n')\n",
        "print(A[:,1],\"\\n\")\n",
        "print(A[:,1].argsort(),\"\\n\")\n",
        "print(A[A[:,1].argsort()])"
      ]
    },
    {
      "cell_type": "markdown",
      "metadata": {
        "id": "xlff-jeHDVK2"
      },
      "source": [
        "#### 60. How to tell if a given 2D array has null columns? (★★☆) \n",
        "(**hint**: any, ~)"
      ]
    },
    {
      "cell_type": "code",
      "execution_count": 62,
      "metadata": {
        "id": "KH4vMWngDVK3",
        "outputId": "9f1fc550-56aa-4408-d68c-ab80af04490e",
        "colab": {
          "base_uri": "https://localhost:8080/"
        }
      },
      "outputs": [
        {
          "output_type": "stream",
          "name": "stdout",
          "text": [
            "[[0 2 1 2 2 0 0 2 1 2]\n",
            " [2 0 1 1 2 0 2 2 1 2]\n",
            " [0 0 2 1 0 0 1 2 2 2]] \n",
            "\n",
            "[False False False False False  True False False False False] \n",
            "\n",
            "True\n"
          ]
        }
      ],
      "source": [
        "Z = np.random.randint(0,3,(3,10))\n",
        "print(Z,\"\\n\")\n",
        "print((~Z.any(axis=0)),\"\\n\")\n",
        "print((~Z.any(axis=0)).any())"
      ]
    },
    {
      "cell_type": "markdown",
      "metadata": {
        "id": "zvvVVpv5DVK3"
      },
      "source": [
        "#### 61. Find the nearest value from a given value in an array (★★☆) \n",
        "(**hint**: np.abs, argmin, flat)"
      ]
    },
    {
      "cell_type": "code",
      "execution_count": 63,
      "metadata": {
        "id": "Vml3vzstDVK5",
        "outputId": "333cd029-0f99-4fda-caf4-d7f317411b36",
        "colab": {
          "base_uri": "https://localhost:8080/"
        }
      },
      "outputs": [
        {
          "output_type": "stream",
          "name": "stdout",
          "text": [
            "0.5150544644344558\n"
          ]
        }
      ],
      "source": [
        "Z = np.random.uniform(0,1,10)\n",
        "z = 0.5\n",
        "m = Z.flat[np.abs(Z - z).argmin()]\n",
        "print(m)"
      ]
    },
    {
      "cell_type": "markdown",
      "metadata": {
        "id": "12THiiT4DVK7"
      },
      "source": [
        "#### 62. Considering two arrays with shape (1,3) and (3,1), how to compute their sum using an iterator? (★★☆) \n",
        "(**hint**: np.nditer)"
      ]
    },
    {
      "cell_type": "code",
      "execution_count": 64,
      "metadata": {
        "id": "y4J62t3IDVK7",
        "outputId": "a7db07ad-bea5-4b64-8692-817663c0e3c0",
        "colab": {
          "base_uri": "https://localhost:8080/"
        }
      },
      "outputs": [
        {
          "output_type": "stream",
          "name": "stdout",
          "text": [
            "[[0 1 2]\n",
            " [1 2 3]\n",
            " [2 3 4]]\n"
          ]
        }
      ],
      "source": [
        "A = np.arange(3).reshape(3,1)\n",
        "B = np.arange(3).reshape(1,3)\n",
        "it = np.nditer([A,B,None])\n",
        "for x,y,z in it: z[...] = x + y\n",
        "print(it.operands[2])"
      ]
    },
    {
      "cell_type": "markdown",
      "metadata": {
        "id": "4XAx8FnPDVK8"
      },
      "source": [
        "#### 63. Create an array class that has a name attribute (★★☆) \n",
        "(**hint**: class method)"
      ]
    },
    {
      "cell_type": "code",
      "execution_count": 66,
      "metadata": {
        "id": "-WU5zejXDVK8",
        "outputId": "fc9ef2a2-b109-4edb-addd-0b1d077497eb",
        "colab": {
          "base_uri": "https://localhost:8080/"
        }
      },
      "outputs": [
        {
          "output_type": "stream",
          "name": "stdout",
          "text": [
            "[0 1 2 3 4 5 6 7 8 9]\n"
          ]
        }
      ],
      "source": [
        "class NamedArray(np.ndarray):\n",
        "    def __new__(cls, array, name=\"no name\"):\n",
        "        obj = np.asarray(array).view(cls)\n",
        "        obj.name = name\n",
        "        return obj\n",
        "    def __array_finalize__(self, obj):\n",
        "        if obj is None: return\n",
        "        self.info = getattr(obj, 'name', \"no name\")\n",
        "Z = NamedArray(np.arange(10), \"Array1\")\n",
        "print (Z)"
      ]
    },
    {
      "cell_type": "markdown",
      "metadata": {
        "id": "krBXsqOlDVK8"
      },
      "source": [
        "#### 64. Consider a given vector, how to add 1 to each element indexed by a second vector (be careful with repeated indices)? (★★★) \n",
        "(**hint**: np.bincount | np.add.at)"
      ]
    },
    {
      "cell_type": "code",
      "execution_count": 67,
      "metadata": {
        "id": "gT957hS3DVK8",
        "outputId": "77be5fae-2dd4-4496-d22b-4a0b7253d85f",
        "colab": {
          "base_uri": "https://localhost:8080/"
        }
      },
      "outputs": [
        {
          "output_type": "stream",
          "name": "stdout",
          "text": [
            "[1. 1. 1. 1. 1. 1. 1. 1. 1. 1.]\n",
            "[2. 4. 3. 4. 2. 2. 4. 2. 2. 5.]\n"
          ]
        }
      ],
      "source": [
        "Z = np.ones(10)\n",
        "print(Z)\n",
        "I = np.random.randint(0,len(Z),20)\n",
        "np.add.at(Z, I, 1)\n",
        "print(Z)"
      ]
    },
    {
      "cell_type": "markdown",
      "metadata": {
        "id": "QmC-5zOYDVK8"
      },
      "source": [
        "#### 65. How to accumulate elements of a vector (X) to an array (F) based on an index list (I)? (★★★) \n",
        "(**hint**: np.bincount)"
      ]
    },
    {
      "cell_type": "code",
      "execution_count": 68,
      "metadata": {
        "id": "f_eU0OzeDVK9",
        "outputId": "81ac3c52-e4d2-4e1e-b6c3-690149853b8d",
        "colab": {
          "base_uri": "https://localhost:8080/"
        }
      },
      "outputs": [
        {
          "output_type": "stream",
          "name": "stdout",
          "text": [
            "[0. 7. 0. 6. 5. 0. 0. 0. 0. 3.]\n"
          ]
        }
      ],
      "source": [
        "X = [1,2,3,4,5,6]\n",
        "I = [1,3,9,3,4,1]\n",
        "F = np.bincount(I,X)\n",
        "print(F)"
      ]
    },
    {
      "cell_type": "markdown",
      "metadata": {
        "id": "VKTHhDB9DVK9"
      },
      "source": [
        "#### 66. Considering a (w,h,3) image of (dtype=ubyte), compute the number of unique colors (★★★) \n",
        "(**hint**: np.unique)"
      ]
    },
    {
      "cell_type": "code",
      "execution_count": 69,
      "metadata": {
        "id": "k1i8S7E-DVK9",
        "outputId": "4451477b-9e9e-4139-b773-d81769cbaa8c",
        "colab": {
          "base_uri": "https://localhost:8080/"
        }
      },
      "outputs": [
        {
          "output_type": "stream",
          "name": "stdout",
          "text": [
            "8\n"
          ]
        }
      ],
      "source": [
        "w,h = 16,16\n",
        "I = np.random.randint(0,2,(h,w,3)).astype(np.ubyte)\n",
        "F = I[...,0]*(256*256) + I[...,1]*256 +I[...,2]\n",
        "n = len(np.unique(F))\n",
        "print(n)"
      ]
    },
    {
      "cell_type": "markdown",
      "metadata": {
        "id": "RNS-A_Y3DVK9"
      },
      "source": [
        "#### 67. Considering a four dimensions array, how to get sum over the last two axis at once? (★★★) \n",
        "(**hint**: sum(axis=(-2,-1)))"
      ]
    },
    {
      "cell_type": "code",
      "execution_count": 70,
      "metadata": {
        "id": "U2FjQF5GDVK-",
        "outputId": "999ef0e5-178b-4d97-c3f9-b251772fea5e",
        "colab": {
          "base_uri": "https://localhost:8080/"
        }
      },
      "outputs": [
        {
          "output_type": "stream",
          "name": "stdout",
          "text": [
            "[[44 57 53 55]\n",
            " [40 69 57 68]\n",
            " [56 65 51 58]]\n"
          ]
        }
      ],
      "source": [
        "A = np.random.randint(0,10,(3,4,3,4))\n",
        "sum = A.sum(axis=(-2,-1))\n",
        "print(sum)"
      ]
    },
    {
      "cell_type": "markdown",
      "metadata": {
        "id": "juq2sBNWDVK-"
      },
      "source": [
        "#### 68. Considering a one-dimensional vector D, how to compute means of subsets of D using a vector S of same size describing subset  indices? (★★★) \n",
        "(**hint**: np.bincount)"
      ]
    },
    {
      "cell_type": "code",
      "execution_count": 71,
      "metadata": {
        "id": "CkR0GxRCDVK-",
        "outputId": "b886beb0-be70-46cc-a75e-ad1d4109bd3f",
        "colab": {
          "base_uri": "https://localhost:8080/"
        }
      },
      "outputs": [
        {
          "output_type": "stream",
          "name": "stdout",
          "text": [
            "[0.59543043 0.39601406 0.59757807 0.68464268 0.48300067 0.62347571\n",
            " 0.42345794 0.58178157 0.40071334 0.53197522]\n"
          ]
        }
      ],
      "source": [
        "D = np.random.uniform(0,1,100)\n",
        "\n",
        "S = np.random.randint(0,10,100)\n",
        "D_sums = np.bincount(S, weights=D)\n",
        "\n",
        "D_counts = np.bincount(S)\n",
        "\n",
        "D_means = D_sums / D_counts\n",
        "print(D_means)"
      ]
    },
    {
      "cell_type": "markdown",
      "metadata": {
        "id": "jeFbxJRPDVK-"
      },
      "source": [
        "#### 69. How to get the diagonal of a dot product? (★★★) \n",
        "(**hint**: np.diag)"
      ]
    },
    {
      "cell_type": "code",
      "execution_count": 72,
      "metadata": {
        "id": "uEk5GIzKDVK-",
        "outputId": "b549b895-2918-4d63-e3de-ee6c902b6db7",
        "colab": {
          "base_uri": "https://localhost:8080/"
        }
      },
      "outputs": [
        {
          "output_type": "execute_result",
          "data": {
            "text/plain": [
              "array([0.25457773, 0.26620106, 2.0939025 , 1.41062248])"
            ]
          },
          "metadata": {},
          "execution_count": 72
        }
      ],
      "source": [
        "A = np.random.uniform(0,1,(4,4))\n",
        "B = np.random.uniform(0,1,(4,4))\n",
        "\n",
        "np.diag(np.dot(A, B))"
      ]
    },
    {
      "cell_type": "markdown",
      "metadata": {
        "id": "v_wzvZlQDVK_"
      },
      "source": [
        "#### 70. Consider the vector \\[1, 2, 3, 4, 5\\], how to build a new vector with 3 consecutive zeros interleaved between each value? (★★★) \n",
        "(**hint**: array\\[::4\\])"
      ]
    },
    {
      "cell_type": "code",
      "execution_count": 73,
      "metadata": {
        "id": "330pbKYADVK_",
        "outputId": "7cd14105-854b-49ab-acc8-4c4cf338c697",
        "colab": {
          "base_uri": "https://localhost:8080/"
        }
      },
      "outputs": [
        {
          "output_type": "stream",
          "name": "stdout",
          "text": [
            "[1. 0. 0. 0. 2. 0. 0. 0. 3. 0. 0. 0. 4. 0. 0. 0. 5.]\n"
          ]
        }
      ],
      "source": [
        "Z = np.array([1,2,3,4,5])\n",
        "nz = 3\n",
        "Z0 = np.zeros(len(Z) + (len(Z)-1)*(nz))\n",
        "Z0[::nz+1] = Z\n",
        "print(Z0)"
      ]
    },
    {
      "cell_type": "markdown",
      "metadata": {
        "id": "ifNA22w0DVK_"
      },
      "source": [
        "#### 71. Consider an array of dimension (5,5,3), how to mulitply it by an array with dimensions (5,5)? (★★★) \n",
        "(**hint**: array\\[:, :, None\\])"
      ]
    },
    {
      "cell_type": "code",
      "execution_count": 74,
      "metadata": {
        "collapsed": true,
        "id": "Veq3NHGvDVK_",
        "outputId": "2441ad19-e291-46f6-a6f7-945546daf868",
        "colab": {
          "base_uri": "https://localhost:8080/"
        }
      },
      "outputs": [
        {
          "output_type": "stream",
          "name": "stdout",
          "text": [
            "[[[2. 2. 2.]\n",
            "  [2. 2. 2.]\n",
            "  [2. 2. 2.]\n",
            "  [2. 2. 2.]\n",
            "  [2. 2. 2.]]\n",
            "\n",
            " [[2. 2. 2.]\n",
            "  [2. 2. 2.]\n",
            "  [2. 2. 2.]\n",
            "  [2. 2. 2.]\n",
            "  [2. 2. 2.]]\n",
            "\n",
            " [[2. 2. 2.]\n",
            "  [2. 2. 2.]\n",
            "  [2. 2. 2.]\n",
            "  [2. 2. 2.]\n",
            "  [2. 2. 2.]]\n",
            "\n",
            " [[2. 2. 2.]\n",
            "  [2. 2. 2.]\n",
            "  [2. 2. 2.]\n",
            "  [2. 2. 2.]\n",
            "  [2. 2. 2.]]\n",
            "\n",
            " [[2. 2. 2.]\n",
            "  [2. 2. 2.]\n",
            "  [2. 2. 2.]\n",
            "  [2. 2. 2.]\n",
            "  [2. 2. 2.]]]\n"
          ]
        }
      ],
      "source": [
        "A = np.ones((5,5,3))\n",
        "B = 2*np.ones((5,5))\n",
        "print(A * B[:,:,None])"
      ]
    },
    {
      "cell_type": "markdown",
      "metadata": {
        "id": "0nmiS5TtDVK_"
      },
      "source": [
        "#### 72. How to swap two rows of an array? (★★★) \n",
        "(**hint**: array\\[\\[\\]\\] = array\\[\\[\\]\\])"
      ]
    },
    {
      "cell_type": "code",
      "execution_count": 75,
      "metadata": {
        "id": "9PJcBWq1DVLA",
        "outputId": "879a275f-50a8-4739-fab5-3c1e80064268",
        "colab": {
          "base_uri": "https://localhost:8080/"
        }
      },
      "outputs": [
        {
          "output_type": "stream",
          "name": "stdout",
          "text": [
            "[[ 0  1  2  3  4]\n",
            " [ 5  6  7  8  9]\n",
            " [10 11 12 13 14]\n",
            " [15 16 17 18 19]\n",
            " [20 21 22 23 24]] \n",
            "\n",
            "[[ 5  6  7  8  9]\n",
            " [ 0  1  2  3  4]\n",
            " [10 11 12 13 14]\n",
            " [15 16 17 18 19]\n",
            " [20 21 22 23 24]]\n"
          ]
        }
      ],
      "source": [
        "A = np.arange(25).reshape(5,5)\n",
        "print(A,\"\\n\")\n",
        "A[[0,1]] = A[[1,0]]\n",
        "print(A)"
      ]
    },
    {
      "cell_type": "markdown",
      "metadata": {
        "id": "FsmqAlhpDVLA"
      },
      "source": [
        "#### 73. Consider a set of 10 triplets describing 10 triangles (with shared vertices), find the set of unique line segments composing all the  triangles (★★★) \n",
        "(**hint**: repeat, np.roll, np.sort, view, np.unique)"
      ]
    },
    {
      "cell_type": "code",
      "execution_count": 76,
      "metadata": {
        "id": "rIN_18AXDVLA",
        "outputId": "e447aa41-a709-4435-c8b0-2b254eda3c78",
        "colab": {
          "base_uri": "https://localhost:8080/"
        }
      },
      "outputs": [
        {
          "output_type": "stream",
          "name": "stdout",
          "text": [
            "[( 2, 51) ( 2, 83) ( 4, 41) ( 4, 46) ( 6, 83) ( 6, 92) ( 7, 18) ( 7, 70)\n",
            " (12, 29) (12, 61) (18, 70) (24, 30) (24, 98) (26, 57) (26, 60) (26, 61)\n",
            " (26, 64) (29, 61) (30, 98) (41, 46) (42, 80) (42, 93) (51, 83) (57, 60)\n",
            " (61, 64) (72, 90) (72, 92) (80, 93) (83, 92) (90, 92)]\n"
          ]
        }
      ],
      "source": [
        "faces = np.random.randint(0,100,(10,3))\n",
        "\n",
        "F = np.roll(faces.repeat(2,axis=1),-1,axis=1)\n",
        "F = F.reshape(len(F)*3,2)\n",
        "F = np.sort(F,axis=1)\n",
        "G = F.view( dtype=[('p0',F.dtype),('p1',F.dtype)] )\n",
        "G = np.unique(G)\n",
        "print(G)"
      ]
    },
    {
      "cell_type": "markdown",
      "metadata": {
        "id": "yH45NPIvDVLA"
      },
      "source": [
        "#### 74. Given an array C that is a bincount, how to produce an array A such that np.bincount(A) == C? (★★★) \n",
        "(**hint**: np.repeat)"
      ]
    },
    {
      "cell_type": "code",
      "execution_count": 77,
      "metadata": {
        "id": "haSGdS5UDVLB",
        "outputId": "2d938e8a-3ecd-48d4-929b-9702a9ce3059",
        "colab": {
          "base_uri": "https://localhost:8080/"
        }
      },
      "outputs": [
        {
          "output_type": "stream",
          "name": "stdout",
          "text": [
            "[0 2 1 1 2 0 1]\n",
            "[0 1 2 3 4 5 6] \n",
            "\n",
            "[1 1 2 3 4 4 6]\n"
          ]
        }
      ],
      "source": [
        "C = np.bincount([1,1,2,3,4,4,6]) \n",
        "print(C)\n",
        "print(np.arange(len(C)),\"\\n\")\n",
        "A = np.repeat(np.arange(len(C)), C)\n",
        "print(A)"
      ]
    },
    {
      "cell_type": "markdown",
      "metadata": {
        "id": "J4MWxbzCDVLB"
      },
      "source": [
        "#### 75. How to compute averages using a sliding window over an array? (★★★) \n",
        "(**hint**: np.cumsum)"
      ]
    },
    {
      "cell_type": "code",
      "execution_count": 78,
      "metadata": {
        "id": "qXLJ7iu8DVLB",
        "outputId": "4bdbd9a1-d6e8-4592-a3c4-5901bb2076be",
        "colab": {
          "base_uri": "https://localhost:8080/"
        }
      },
      "outputs": [
        {
          "output_type": "stream",
          "name": "stdout",
          "text": [
            "[ 1.  2.  3.  4.  5.  6.  7.  8.  9. 10. 11. 12. 13. 14. 15. 16. 17. 18.]\n"
          ]
        }
      ],
      "source": [
        "def moving_average(a, n=3) :\n",
        "    ret = np.cumsum(a, dtype=float)\n",
        "    ret[n:] = ret[n:] - ret[:-n]\n",
        "    return ret[n - 1:] / n\n",
        "Z = np.arange(20)\n",
        "print(moving_average(Z, n=3))"
      ]
    },
    {
      "cell_type": "markdown",
      "metadata": {
        "id": "GjbWY-HsDVLB"
      },
      "source": [
        "#### 76. Consider a one-dimensional array Z, build a two-dimensional array whose first row is (Z\\[0\\],Z\\[1\\],Z\\[2\\]) and each subsequent row is  shifted by 1 (last row should be (Z\\[-3\\],Z\\[-2\\],Z\\[-1\\]) (★★★) \n",
        "(**hint**: from numpy.lib import stride_tricks)"
      ]
    },
    {
      "cell_type": "code",
      "execution_count": 79,
      "metadata": {
        "id": "1mbtZgAjDVLB",
        "outputId": "43ba9f0a-9820-4ca3-dc83-cf22d44986bb",
        "colab": {
          "base_uri": "https://localhost:8080/"
        }
      },
      "outputs": [
        {
          "output_type": "stream",
          "name": "stdout",
          "text": [
            "[[0 1 2]\n",
            " [1 2 3]\n",
            " [2 3 4]\n",
            " [3 4 5]\n",
            " [4 5 6]\n",
            " [5 6 7]\n",
            " [6 7 8]\n",
            " [7 8 9]]\n"
          ]
        }
      ],
      "source": [
        "from numpy.lib import stride_tricks\n",
        "\n",
        "def rolling(a, window):\n",
        "    shape = (a.size - window + 1, window)\n",
        "    strides = (a.itemsize, a.itemsize)\n",
        "    return stride_tricks.as_strided(a, shape=shape, strides=strides)\n",
        "Z = rolling(np.arange(10), 3)\n",
        "print(Z)"
      ]
    },
    {
      "cell_type": "markdown",
      "metadata": {
        "id": "MLWjznnyDVLC"
      },
      "source": [
        "#### 77. How to negate a boolean, or to change the sign of a float inplace? (★★★) \n",
        "(**hint**: np.logical_not, np.negative)"
      ]
    },
    {
      "cell_type": "code",
      "execution_count": 80,
      "metadata": {
        "id": "SflkqAxmDVLC",
        "outputId": "9d0280d8-0421-4d7f-dedd-1fe7548517d8",
        "colab": {
          "base_uri": "https://localhost:8080/"
        }
      },
      "outputs": [
        {
          "output_type": "stream",
          "name": "stdout",
          "text": [
            "[1 1 1 0 1 0 1 0 0 0 0 0 0 0 0 0 0 1 0 1 1 1 0 1 0 0 0 1 1 1 0 1 0 1 1 0 0\n",
            " 1 1 1 1 1 1 1 0 0 1 1 0 0 1 1 1 0 0 0 0 0 1 0 0 0 0 1 0 1 0 1 1 0 0 1 1 1\n",
            " 1 0 0 1 1 1 1 1 1 0 1 1 1 0 1 1 0 0 1 0 0 0 1 1 1 1] \n",
            "\n",
            "[0 0 0 1 0 1 0 1 1 1 1 1 1 1 1 1 1 0 1 0 0 0 1 0 1 1 1 0 0 0 1 0 1 0 0 1 1\n",
            " 0 0 0 0 0 0 0 1 1 0 0 1 1 0 0 0 1 1 1 1 1 0 1 1 1 1 0 1 0 1 0 0 1 1 0 0 0\n",
            " 0 1 1 0 0 0 0 0 0 1 0 0 0 1 0 0 1 1 0 1 1 1 0 0 0 0]\n",
            "[ 0.35283318  0.93128713  0.46148969  0.98651566  0.08881169  0.4866997\n",
            "  0.84170246  0.65766296  0.30869868  0.49739471 -0.37198519  0.54013987\n",
            " -0.7246925  -0.70021096  0.11821283  0.25572569 -0.06437172  0.87048446\n",
            "  0.19324889  0.46038027  0.47817577  0.06110739 -0.28581953 -0.72280723\n",
            "  0.52325797  0.19329615 -0.90965017  0.16204611  0.65376712 -0.98852936\n",
            " -0.27184701 -0.9538636   0.00226833  0.30925793 -0.04486479 -0.50967457\n",
            "  0.01208501  0.03569286 -0.14036474 -0.34914622 -0.76265094  0.50174692\n",
            " -0.61279134  0.46005968 -0.28347799  0.1992367   0.37309299  0.82335673\n",
            " -0.17730065 -0.58921496  0.89551807 -0.47513759  0.15646455 -0.62770324\n",
            " -0.10293799 -0.81357705  0.80925586  0.45255161  0.44285963 -0.73974383\n",
            "  0.6640307  -0.7290317   0.70195377  0.69185499 -0.75748696  0.81648335\n",
            "  0.95936848  0.31702885 -0.14297665 -0.03324303 -0.40719015 -0.38056195\n",
            " -0.61490597  0.47906834  0.94748074  0.774527   -0.44789203  0.16161492\n",
            " -0.9650289   0.97036437 -0.78039229  0.81773585 -0.22882419  0.75306919\n",
            " -0.43342447  0.3711038   0.41048501 -0.46820629  0.30532047  0.14402885\n",
            " -0.31014072  0.10769726 -0.80993098 -0.41058697 -0.04589152  0.12159915\n",
            " -0.87764104  0.77870723  0.25651952  0.21396512]\n"
          ]
        },
        {
          "output_type": "execute_result",
          "data": {
            "text/plain": [
              "array([-0.35283318, -0.93128713, -0.46148969, -0.98651566, -0.08881169,\n",
              "       -0.4866997 , -0.84170246, -0.65766296, -0.30869868, -0.49739471,\n",
              "        0.37198519, -0.54013987,  0.7246925 ,  0.70021096, -0.11821283,\n",
              "       -0.25572569,  0.06437172, -0.87048446, -0.19324889, -0.46038027,\n",
              "       -0.47817577, -0.06110739,  0.28581953,  0.72280723, -0.52325797,\n",
              "       -0.19329615,  0.90965017, -0.16204611, -0.65376712,  0.98852936,\n",
              "        0.27184701,  0.9538636 , -0.00226833, -0.30925793,  0.04486479,\n",
              "        0.50967457, -0.01208501, -0.03569286,  0.14036474,  0.34914622,\n",
              "        0.76265094, -0.50174692,  0.61279134, -0.46005968,  0.28347799,\n",
              "       -0.1992367 , -0.37309299, -0.82335673,  0.17730065,  0.58921496,\n",
              "       -0.89551807,  0.47513759, -0.15646455,  0.62770324,  0.10293799,\n",
              "        0.81357705, -0.80925586, -0.45255161, -0.44285963,  0.73974383,\n",
              "       -0.6640307 ,  0.7290317 , -0.70195377, -0.69185499,  0.75748696,\n",
              "       -0.81648335, -0.95936848, -0.31702885,  0.14297665,  0.03324303,\n",
              "        0.40719015,  0.38056195,  0.61490597, -0.47906834, -0.94748074,\n",
              "       -0.774527  ,  0.44789203, -0.16161492,  0.9650289 , -0.97036437,\n",
              "        0.78039229, -0.81773585,  0.22882419, -0.75306919,  0.43342447,\n",
              "       -0.3711038 , -0.41048501,  0.46820629, -0.30532047, -0.14402885,\n",
              "        0.31014072, -0.10769726,  0.80993098,  0.41058697,  0.04589152,\n",
              "       -0.12159915,  0.87764104, -0.77870723, -0.25651952, -0.21396512])"
            ]
          },
          "metadata": {},
          "execution_count": 80
        }
      ],
      "source": [
        "Z = np.random.randint(0,2,100)\n",
        "print(Z,\"\\n\")\n",
        "print(np.logical_not(Z, out=Z))\n",
        "\n",
        "Z = np.random.uniform(-1.0,1.0,100)\n",
        "print(Z)\n",
        "np.negative(Z, out=Z)"
      ]
    },
    {
      "cell_type": "markdown",
      "metadata": {
        "id": "u0zs7b5xDVLD"
      },
      "source": [
        "#### 78. Consider 2 sets of points P0,P1 describing lines (2d) and a point p, how to compute distance from p to each line i  (P0\\[i\\],P1\\[i\\])? (★★★)"
      ]
    },
    {
      "cell_type": "code",
      "execution_count": 82,
      "metadata": {
        "id": "VBe15owmDVLE",
        "outputId": "0783e0ad-7a17-41a4-bd15-545b9b937b5e",
        "colab": {
          "base_uri": "https://localhost:8080/"
        }
      },
      "outputs": [
        {
          "output_type": "stream",
          "name": "stdout",
          "text": [
            "[ 8.87945627 11.73202255  0.57130913  9.78557574  7.23247347  4.02335295\n",
            "  2.56263179 11.4157437   9.32797402  7.12844011]\n"
          ]
        }
      ],
      "source": [
        "def distance(P0, P1, p):\n",
        "    T = P1 - P0\n",
        "    L = (T**2).sum(axis=1)\n",
        "    U = -((P0[:,0]-p[...,0])*T[:,0] + (P0[:,1]-p[...,1])*T[:,1]) / L\n",
        "    U = U.reshape(len(U),1)\n",
        "    D = P0 + U*T - p\n",
        "    return np.sqrt((D**2).sum(axis=1))\n",
        "\n",
        "P0 = np.random.uniform(-10,10,(10,2))\n",
        "P1 = np.random.uniform(-10,10,(10,2))\n",
        "p  = np.random.uniform(-10,10,( 1,2))\n",
        "print(distance(P0, P1, p))"
      ]
    },
    {
      "cell_type": "markdown",
      "metadata": {
        "id": "xt9g7ET2DVLE"
      },
      "source": [
        "#### 79. Consider 2 sets of points P0,P1 describing lines (2d) and a set of points P, how to compute distance from each point j (P\\[j\\]) to each line i (P0\\[i\\],P1\\[i\\])? (★★★)"
      ]
    },
    {
      "cell_type": "code",
      "execution_count": 83,
      "metadata": {
        "id": "QIbeL_60DVLE",
        "outputId": "cb55db5c-b525-4610-f69d-ec187f7e0b94",
        "colab": {
          "base_uri": "https://localhost:8080/"
        }
      },
      "outputs": [
        {
          "output_type": "stream",
          "name": "stdout",
          "text": [
            "[[ 7.57363531  4.31808907  2.0952949  11.67719324  0.6531899  13.25678914\n",
            "   8.89281532 13.72142907  7.75607006 10.17943207]\n",
            " [ 8.38349081 11.7207536   9.85592321  0.63901766 13.91471527  1.16121086\n",
            "   5.337516    5.75523562  8.21463948  0.27539859]\n",
            " [17.15850073 12.9681696  17.91521973  4.32900359 10.99707371  1.93547789\n",
            "   2.0291802   2.25189493  8.14378903  5.81604067]\n",
            " [ 4.05817942  7.81659202  4.4339597   0.44899832 12.2880042   0.34969375\n",
            "   3.9656659  11.19494311  4.94921011  1.00220631]\n",
            " [13.67500047  0.67525103  9.51714766 11.82145657  1.16260434 11.60004876\n",
            "   7.4268012   6.28133641  3.6654653  11.5602585 ]\n",
            " [ 4.3167754   9.6160531   5.44820226  1.71670939 13.84444656  1.18670738\n",
            "   5.47721786 10.15894956  6.71574813  2.04223956]\n",
            " [ 5.11634208  4.52687238  0.09964802 10.17323985  0.29479154 12.25984572\n",
            "   7.83808759 15.8999071   7.59522269  8.37639698]\n",
            " [14.70220298 16.13140274 17.20701644  0.12054555 15.08652242  2.1746689\n",
            "   6.16148429  1.60469886 11.68783862  1.68082416]\n",
            " [19.01625865  8.53671832 17.5523514   9.14775644  6.00423364  6.92689311\n",
            "   2.9574635   1.81594639  3.41746235 10.35432707]\n",
            " [ 6.47760674 11.42451021  8.09433461  1.69773867 14.52482667  1.81042234\n",
            "   6.03296332  7.50582848  8.20463126  1.58091377]]\n"
          ]
        }
      ],
      "source": [
        "P0 = np.random.uniform(-10, 10, (10,2))\n",
        "P1 = np.random.uniform(-10,10,(10,2))\n",
        "p = np.random.uniform(-10, 10, (10,2))\n",
        "print(np.array([distance(P0,P1,p_i) for p_i in p]))"
      ]
    },
    {
      "cell_type": "markdown",
      "metadata": {
        "id": "dAUS4ciRDVLE"
      },
      "source": [
        "#### 80. Consider an arbitrary array, write a function that extract a subpart with a fixed shape and centered on a given element (pad with a `fill` value when necessary) (★★★) \n",
        "(**hint**: minimum, maximum)"
      ]
    },
    {
      "cell_type": "code",
      "execution_count": 85,
      "metadata": {
        "id": "KzOcu0u4DVLE",
        "outputId": "e0a98ab6-cbae-42d3-ca6a-518aa65eb24a",
        "colab": {
          "base_uri": "https://localhost:8080/"
        }
      },
      "outputs": [
        {
          "output_type": "stream",
          "name": "stdout",
          "text": [
            "[[5 2 2 3 8 9 7 3 3 8]\n",
            " [0 7 0 1 3 8 4 6 7 8]\n",
            " [1 8 2 7 3 7 3 3 0 1]\n",
            " [8 2 9 2 8 4 2 9 9 5]\n",
            " [6 4 0 7 3 8 9 6 7 2]\n",
            " [5 1 4 7 9 3 7 8 8 9]\n",
            " [0 9 2 1 0 0 0 6 7 8]\n",
            " [3 1 9 7 1 8 3 3 7 2]\n",
            " [5 9 8 2 9 9 5 9 1 6]\n",
            " [5 6 6 1 7 6 1 5 4 0]]\n",
            "[[0 0 0 0 0]\n",
            " [0 5 2 2 3]\n",
            " [0 0 7 0 1]\n",
            " [0 1 8 2 7]\n",
            " [0 8 2 9 2]]\n"
          ]
        },
        {
          "output_type": "stream",
          "name": "stderr",
          "text": [
            "/usr/local/lib/python3.7/dist-packages/ipykernel_launcher.py:23: FutureWarning: Using a non-tuple sequence for multidimensional indexing is deprecated; use `arr[tuple(seq)]` instead of `arr[seq]`. In the future this will be interpreted as an array index, `arr[np.array(seq)]`, which will result either in an error or a different result.\n"
          ]
        }
      ],
      "source": [
        "Z = np.random.randint(0,10,(10,10))\n",
        "shape = (5,5)\n",
        "fill  = 0\n",
        "position = (1,1)\n",
        "\n",
        "R = np.ones(shape, dtype=Z.dtype)*fill\n",
        "P  = np.array(list(position)).astype(int)\n",
        "Rs = np.array(list(R.shape)).astype(int)\n",
        "Zs = np.array(list(Z.shape)).astype(int)\n",
        "\n",
        "R_start = np.zeros((len(shape),)).astype(int)\n",
        "R_stop  = np.array(list(shape)).astype(int)\n",
        "Z_start = (P-Rs//2)\n",
        "Z_stop  = (P+Rs//2)+Rs%2\n",
        "\n",
        "R_start = (R_start - np.minimum(Z_start,0)).tolist()\n",
        "Z_start = (np.maximum(Z_start,0)).tolist()\n",
        "R_stop = np.maximum(R_start, (R_stop - np.maximum(Z_stop-Zs,0))).tolist()\n",
        "Z_stop = (np.minimum(Z_stop,Zs)).tolist()\n",
        "\n",
        "r = [slice(start,stop) for start,stop in zip(R_start,R_stop)]\n",
        "z = [slice(start,stop) for start,stop in zip(Z_start,Z_stop)]\n",
        "R[r] = Z[z]\n",
        "print(Z)\n",
        "print(R)"
      ]
    },
    {
      "cell_type": "markdown",
      "metadata": {
        "id": "xAkcYyx1DVLF"
      },
      "source": [
        "#### 81. Consider an array Z = \\[1,2,3,4,5,6,7,8,9,10,11,12,13,14\\], how to generate an array R = \\[\\[1,2,3,4\\], \\[2,3,4,5\\], \\[3,4,5,6\\], ..., \\[11,12,13,14\\]\\]? (★★★) \n",
        "(**hint**: stride\\_tricks.as\\_strided)"
      ]
    },
    {
      "cell_type": "code",
      "execution_count": 86,
      "metadata": {
        "id": "qEYd5eDcDVLF",
        "outputId": "4c10e6c0-f2e6-4b6d-f132-52447e837362",
        "colab": {
          "base_uri": "https://localhost:8080/"
        }
      },
      "outputs": [
        {
          "output_type": "stream",
          "name": "stdout",
          "text": [
            "[[ 1  2  3  4]\n",
            " [ 2  3  4  5]\n",
            " [ 3  4  5  6]\n",
            " [ 4  5  6  7]\n",
            " [ 5  6  7  8]\n",
            " [ 6  7  8  9]\n",
            " [ 7  8  9 10]\n",
            " [ 8  9 10 11]\n",
            " [ 9 10 11 12]\n",
            " [10 11 12 13]\n",
            " [11 12 13 14]]\n"
          ]
        }
      ],
      "source": [
        "from numpy.lib import stride_tricks\n",
        "Z = np.arange(1,15,dtype=np.uint32)\n",
        "R = stride_tricks.as_strided(Z,(11,4),(4,4))\n",
        "print(R)"
      ]
    },
    {
      "cell_type": "markdown",
      "metadata": {
        "id": "uvvkkkPCDVLF"
      },
      "source": [
        "#### 82. Compute a matrix rank (★★★) \n",
        "(**hint**: np.linalg.svd) (suggestion: np.linalg.svd)"
      ]
    },
    {
      "cell_type": "code",
      "execution_count": 87,
      "metadata": {
        "id": "BgMn2biaDVLF",
        "outputId": "0cef33cd-cd41-4c4a-b8a0-9f1c190dce81",
        "colab": {
          "base_uri": "https://localhost:8080/"
        }
      },
      "outputs": [
        {
          "output_type": "stream",
          "name": "stdout",
          "text": [
            "10\n"
          ]
        }
      ],
      "source": [
        "Z = np.random.uniform(0,1,(10,10))\n",
        "U, S, V = np.linalg.svd(Z)\n",
        "rank = np.sum(S > 1e-10)\n",
        "print(rank)"
      ]
    },
    {
      "cell_type": "markdown",
      "metadata": {
        "id": "y9CLZxCJDVLG"
      },
      "source": [
        "#### 83. How to find the most frequent value in an array? \n",
        "(**hint**: np.bincount, argmax)"
      ]
    },
    {
      "cell_type": "code",
      "execution_count": 88,
      "metadata": {
        "id": "2wtUkoMVDVLG",
        "outputId": "2a031a5d-1043-4b5e-b4db-8ea38d97197f",
        "colab": {
          "base_uri": "https://localhost:8080/"
        }
      },
      "outputs": [
        {
          "output_type": "stream",
          "name": "stdout",
          "text": [
            "4\n"
          ]
        }
      ],
      "source": [
        "Z = np.random.randint(0,10,50)\n",
        "print(np.bincount(Z).argmax())"
      ]
    },
    {
      "cell_type": "markdown",
      "metadata": {
        "id": "WS8PDTYjDVLG"
      },
      "source": [
        "#### 84. Extract all the contiguous 3x3 blocks from a random 10x10 matrix (★★★) \n",
        "(**hint**: stride\\_tricks.as\\_strided)"
      ]
    },
    {
      "cell_type": "code",
      "execution_count": 89,
      "metadata": {
        "id": "LmtPlj3UDVLG",
        "outputId": "9a32edf5-5e3b-43c7-8fb1-be4c73ac881e",
        "colab": {
          "base_uri": "https://localhost:8080/"
        }
      },
      "outputs": [
        {
          "output_type": "stream",
          "name": "stdout",
          "text": [
            "[[[[2 2 1]\n",
            "   [3 4 1]\n",
            "   [3 1 0]]\n",
            "\n",
            "  [[2 1 2]\n",
            "   [4 1 0]\n",
            "   [1 0 3]]\n",
            "\n",
            "  [[1 2 0]\n",
            "   [1 0 4]\n",
            "   [0 3 4]]\n",
            "\n",
            "  [[2 0 2]\n",
            "   [0 4 4]\n",
            "   [3 4 3]]\n",
            "\n",
            "  [[0 2 0]\n",
            "   [4 4 3]\n",
            "   [4 3 2]]\n",
            "\n",
            "  [[2 0 4]\n",
            "   [4 3 1]\n",
            "   [3 2 0]]\n",
            "\n",
            "  [[0 4 0]\n",
            "   [3 1 0]\n",
            "   [2 0 3]]\n",
            "\n",
            "  [[4 0 2]\n",
            "   [1 0 3]\n",
            "   [0 3 0]]]\n",
            "\n",
            "\n",
            " [[[3 4 1]\n",
            "   [3 1 0]\n",
            "   [0 0 4]]\n",
            "\n",
            "  [[4 1 0]\n",
            "   [1 0 3]\n",
            "   [0 4 1]]\n",
            "\n",
            "  [[1 0 4]\n",
            "   [0 3 4]\n",
            "   [4 1 2]]\n",
            "\n",
            "  [[0 4 4]\n",
            "   [3 4 3]\n",
            "   [1 2 3]]\n",
            "\n",
            "  [[4 4 3]\n",
            "   [4 3 2]\n",
            "   [2 3 0]]\n",
            "\n",
            "  [[4 3 1]\n",
            "   [3 2 0]\n",
            "   [3 0 2]]\n",
            "\n",
            "  [[3 1 0]\n",
            "   [2 0 3]\n",
            "   [0 2 3]]\n",
            "\n",
            "  [[1 0 3]\n",
            "   [0 3 0]\n",
            "   [2 3 2]]]\n",
            "\n",
            "\n",
            " [[[3 1 0]\n",
            "   [0 0 4]\n",
            "   [1 0 3]]\n",
            "\n",
            "  [[1 0 3]\n",
            "   [0 4 1]\n",
            "   [0 3 4]]\n",
            "\n",
            "  [[0 3 4]\n",
            "   [4 1 2]\n",
            "   [3 4 2]]\n",
            "\n",
            "  [[3 4 3]\n",
            "   [1 2 3]\n",
            "   [4 2 3]]\n",
            "\n",
            "  [[4 3 2]\n",
            "   [2 3 0]\n",
            "   [2 3 2]]\n",
            "\n",
            "  [[3 2 0]\n",
            "   [3 0 2]\n",
            "   [3 2 0]]\n",
            "\n",
            "  [[2 0 3]\n",
            "   [0 2 3]\n",
            "   [2 0 0]]\n",
            "\n",
            "  [[0 3 0]\n",
            "   [2 3 2]\n",
            "   [0 0 1]]]\n",
            "\n",
            "\n",
            " [[[0 0 4]\n",
            "   [1 0 3]\n",
            "   [3 0 0]]\n",
            "\n",
            "  [[0 4 1]\n",
            "   [0 3 4]\n",
            "   [0 0 4]]\n",
            "\n",
            "  [[4 1 2]\n",
            "   [3 4 2]\n",
            "   [0 4 3]]\n",
            "\n",
            "  [[1 2 3]\n",
            "   [4 2 3]\n",
            "   [4 3 0]]\n",
            "\n",
            "  [[2 3 0]\n",
            "   [2 3 2]\n",
            "   [3 0 3]]\n",
            "\n",
            "  [[3 0 2]\n",
            "   [3 2 0]\n",
            "   [0 3 3]]\n",
            "\n",
            "  [[0 2 3]\n",
            "   [2 0 0]\n",
            "   [3 3 1]]\n",
            "\n",
            "  [[2 3 2]\n",
            "   [0 0 1]\n",
            "   [3 1 4]]]\n",
            "\n",
            "\n",
            " [[[1 0 3]\n",
            "   [3 0 0]\n",
            "   [3 1 2]]\n",
            "\n",
            "  [[0 3 4]\n",
            "   [0 0 4]\n",
            "   [1 2 2]]\n",
            "\n",
            "  [[3 4 2]\n",
            "   [0 4 3]\n",
            "   [2 2 2]]\n",
            "\n",
            "  [[4 2 3]\n",
            "   [4 3 0]\n",
            "   [2 2 1]]\n",
            "\n",
            "  [[2 3 2]\n",
            "   [3 0 3]\n",
            "   [2 1 0]]\n",
            "\n",
            "  [[3 2 0]\n",
            "   [0 3 3]\n",
            "   [1 0 1]]\n",
            "\n",
            "  [[2 0 0]\n",
            "   [3 3 1]\n",
            "   [0 1 2]]\n",
            "\n",
            "  [[0 0 1]\n",
            "   [3 1 4]\n",
            "   [1 2 3]]]\n",
            "\n",
            "\n",
            " [[[3 0 0]\n",
            "   [3 1 2]\n",
            "   [1 3 0]]\n",
            "\n",
            "  [[0 0 4]\n",
            "   [1 2 2]\n",
            "   [3 0 2]]\n",
            "\n",
            "  [[0 4 3]\n",
            "   [2 2 2]\n",
            "   [0 2 4]]\n",
            "\n",
            "  [[4 3 0]\n",
            "   [2 2 1]\n",
            "   [2 4 4]]\n",
            "\n",
            "  [[3 0 3]\n",
            "   [2 1 0]\n",
            "   [4 4 2]]\n",
            "\n",
            "  [[0 3 3]\n",
            "   [1 0 1]\n",
            "   [4 2 4]]\n",
            "\n",
            "  [[3 3 1]\n",
            "   [0 1 2]\n",
            "   [2 4 4]]\n",
            "\n",
            "  [[3 1 4]\n",
            "   [1 2 3]\n",
            "   [4 4 4]]]\n",
            "\n",
            "\n",
            " [[[3 1 2]\n",
            "   [1 3 0]\n",
            "   [1 3 2]]\n",
            "\n",
            "  [[1 2 2]\n",
            "   [3 0 2]\n",
            "   [3 2 1]]\n",
            "\n",
            "  [[2 2 2]\n",
            "   [0 2 4]\n",
            "   [2 1 4]]\n",
            "\n",
            "  [[2 2 1]\n",
            "   [2 4 4]\n",
            "   [1 4 2]]\n",
            "\n",
            "  [[2 1 0]\n",
            "   [4 4 2]\n",
            "   [4 2 3]]\n",
            "\n",
            "  [[1 0 1]\n",
            "   [4 2 4]\n",
            "   [2 3 0]]\n",
            "\n",
            "  [[0 1 2]\n",
            "   [2 4 4]\n",
            "   [3 0 1]]\n",
            "\n",
            "  [[1 2 3]\n",
            "   [4 4 4]\n",
            "   [0 1 0]]]\n",
            "\n",
            "\n",
            " [[[1 3 0]\n",
            "   [1 3 2]\n",
            "   [4 3 4]]\n",
            "\n",
            "  [[3 0 2]\n",
            "   [3 2 1]\n",
            "   [3 4 3]]\n",
            "\n",
            "  [[0 2 4]\n",
            "   [2 1 4]\n",
            "   [4 3 3]]\n",
            "\n",
            "  [[2 4 4]\n",
            "   [1 4 2]\n",
            "   [3 3 0]]\n",
            "\n",
            "  [[4 4 2]\n",
            "   [4 2 3]\n",
            "   [3 0 0]]\n",
            "\n",
            "  [[4 2 4]\n",
            "   [2 3 0]\n",
            "   [0 0 0]]\n",
            "\n",
            "  [[2 4 4]\n",
            "   [3 0 1]\n",
            "   [0 0 3]]\n",
            "\n",
            "  [[4 4 4]\n",
            "   [0 1 0]\n",
            "   [0 3 4]]]]\n"
          ]
        }
      ],
      "source": [
        "Z = np.random.randint(0,5,(10,10))\n",
        "n = 3\n",
        "i = 1 + (Z.shape[0]-3)\n",
        "j = 1 + (Z.shape[1]-3)\n",
        "C = stride_tricks.as_strided(Z, shape=(i, j, n, n), strides=Z.strides + Z.strides)\n",
        "print(C)"
      ]
    },
    {
      "cell_type": "markdown",
      "metadata": {
        "id": "oBaUQ8LjDVLG"
      },
      "source": [
        "#### 85. Create a 2D array subclass such that Z\\[i,j\\] == Z\\[j,i\\] (★★★) \n",
        "(**hint**: class method)"
      ]
    },
    {
      "cell_type": "code",
      "execution_count": 90,
      "metadata": {
        "id": "0aOTLzc-DVLH",
        "outputId": "a6f5cd6b-6f77-4d5e-b33f-b1c0e95cd6e1",
        "colab": {
          "base_uri": "https://localhost:8080/"
        }
      },
      "outputs": [
        {
          "output_type": "execute_result",
          "data": {
            "text/plain": [
              "Symetric([[ 5,  8, 11,  4,  8],\n",
              "          [ 8,  1,  7,  9,  7],\n",
              "          [11,  7,  7,  9,  9],\n",
              "          [ 4,  9,  9,  6, 15],\n",
              "          [ 8,  7,  9, 15,  7]])"
            ]
          },
          "metadata": {},
          "execution_count": 90
        }
      ],
      "source": [
        "class Symetric(np.ndarray):\n",
        "    def __setitem__(self, index, value):\n",
        "        i,j = index\n",
        "        super(Symetric, self).__setitem__((i,j), value)\n",
        "        super(Symetric, self).__setitem__((j,i), value)\n",
        "\n",
        "def symetric(Z):\n",
        "    return np.asarray(Z + Z.T - np.diag(Z.diagonal())).view(Symetric)\n",
        "\n",
        "S = symetric(np.random.randint(0,10,(5,5)))\n",
        "S"
      ]
    },
    {
      "cell_type": "markdown",
      "metadata": {
        "id": "6ZGaWI9XDVLH"
      },
      "source": [
        "#### 86. Consider a set of p matrices wich shape (n,n) and a set of p vectors with shape (n,1). How to compute the sum of of the p matrix products at once? (result has shape (n,1)) (★★★) \n",
        "(**hint**: np.tensordot)"
      ]
    },
    {
      "cell_type": "code",
      "execution_count": 91,
      "metadata": {
        "id": "tuVbpBodDVLH",
        "outputId": "eb3fbe58-eaef-41d0-c319-bca27b2a4627",
        "colab": {
          "base_uri": "https://localhost:8080/"
        }
      },
      "outputs": [
        {
          "output_type": "stream",
          "name": "stdout",
          "text": [
            "[[200.]\n",
            " [200.]\n",
            " [200.]\n",
            " [200.]\n",
            " [200.]\n",
            " [200.]\n",
            " [200.]\n",
            " [200.]\n",
            " [200.]\n",
            " [200.]\n",
            " [200.]\n",
            " [200.]\n",
            " [200.]\n",
            " [200.]\n",
            " [200.]\n",
            " [200.]\n",
            " [200.]\n",
            " [200.]\n",
            " [200.]\n",
            " [200.]]\n"
          ]
        }
      ],
      "source": [
        "p, n = 10, 20\n",
        "M = np.ones((p,n,n))\n",
        "V = np.ones((p,n,1))\n",
        "S = np.tensordot(M, V, axes=[[0, 2], [0, 1]])\n",
        "print(S)"
      ]
    },
    {
      "cell_type": "markdown",
      "metadata": {
        "id": "7X_i_bYJDVLH"
      },
      "source": [
        "#### 87. Consider a 16x16 array, how to get the block-sum (block size is 4x4)? (★★★) \n",
        "(**hint**: np.add.reduceat)"
      ]
    },
    {
      "cell_type": "code",
      "execution_count": 92,
      "metadata": {
        "id": "kezpePpCDVLH",
        "outputId": "ed695e25-3212-4b90-ff7b-f39a9433a488",
        "colab": {
          "base_uri": "https://localhost:8080/"
        }
      },
      "outputs": [
        {
          "output_type": "stream",
          "name": "stdout",
          "text": [
            "[[16. 16. 16. 16.]\n",
            " [16. 16. 16. 16.]\n",
            " [16. 16. 16. 16.]\n",
            " [16. 16. 16. 16.]]\n"
          ]
        }
      ],
      "source": [
        "Z = np.ones((16,16))\n",
        "k = 4\n",
        "S = np.add.reduceat(np.add.reduceat(Z, np.arange(0, Z.shape[0], k), axis=0),\n",
        "                                       np.arange(0, Z.shape[1], k), axis=1)\n",
        "print(S)"
      ]
    },
    {
      "cell_type": "markdown",
      "metadata": {
        "id": "GIoCq5VXDVLI"
      },
      "source": [
        "#### 88. How to implement the Game of Life using numpy arrays? (★★★)"
      ]
    },
    {
      "cell_type": "code",
      "execution_count": 93,
      "metadata": {
        "id": "bwYblDpJDVLI",
        "outputId": "77fedc68-cf36-4954-dbed-eeca881bd532",
        "colab": {
          "base_uri": "https://localhost:8080/"
        }
      },
      "outputs": [
        {
          "output_type": "stream",
          "name": "stdout",
          "text": [
            "[[0 0 0 0 0 0 0 0 0 0 0 0 0 0 0 0 0 0 0 0 0 0 0 0 0 0 0 0 0 0 0 0 0 0 0 0\n",
            "  0 0 0 0 0 0 0 0 0 0 0 0 0 0]\n",
            " [0 0 0 0 0 0 0 0 0 0 0 0 0 0 0 0 0 0 0 0 0 0 0 0 0 0 0 0 0 0 0 1 0 0 0 0\n",
            "  0 0 0 0 1 1 0 0 0 0 0 0 0 0]\n",
            " [0 0 0 0 0 0 0 0 0 0 0 0 0 0 0 0 0 0 0 0 0 0 0 0 0 0 0 0 0 1 1 0 1 1 0 0\n",
            "  0 0 0 1 0 0 1 0 0 0 0 0 0 0]\n",
            " [0 0 0 0 0 0 0 0 0 0 0 0 0 0 0 0 0 0 0 0 0 0 0 0 0 0 0 0 0 1 1 0 1 1 0 0\n",
            "  0 0 0 0 1 1 0 0 1 1 1 0 0 0]\n",
            " [0 0 0 0 0 0 0 0 0 0 0 0 0 0 0 0 0 0 0 0 0 0 0 0 0 0 0 0 0 1 1 0 1 1 0 0\n",
            "  0 0 0 0 1 1 0 0 0 0 0 0 0 0]\n",
            " [0 0 0 0 0 0 0 0 0 0 0 0 0 0 0 0 0 0 0 0 0 0 1 1 0 0 0 0 0 0 1 0 0 0 0 0\n",
            "  0 0 0 0 0 0 0 0 0 0 0 0 0 0]\n",
            " [0 0 0 0 0 0 0 0 0 0 0 0 0 0 0 0 0 0 0 0 0 0 0 1 0 0 0 0 0 0 1 0 0 1 0 0\n",
            "  0 0 0 0 0 0 0 0 0 0 0 0 0 0]\n",
            " [0 0 0 0 0 0 0 0 0 0 0 0 0 0 0 0 0 0 0 0 0 0 0 0 0 0 0 0 0 0 1 0 0 0 0 0\n",
            "  0 0 0 0 0 0 0 0 0 0 0 0 0 0]\n",
            " [0 0 0 0 0 0 0 0 0 0 0 0 0 0 0 0 0 0 0 1 1 0 1 1 0 0 0 0 0 0 1 0 0 1 0 0\n",
            "  0 0 0 0 0 0 0 0 1 1 0 0 0 0]\n",
            " [0 0 0 0 0 0 0 0 0 0 0 0 0 0 0 0 0 0 0 1 0 0 0 1 1 1 0 0 0 0 0 1 0 1 0 0\n",
            "  0 0 0 0 0 1 0 0 1 0 0 1 0 0]\n",
            " [0 0 0 0 0 0 0 0 0 0 0 0 0 0 0 0 0 0 0 1 0 0 1 1 0 1 1 0 0 0 0 0 0 0 0 1\n",
            "  0 1 1 0 1 1 0 0 0 0 0 1 0 0]\n",
            " [0 0 0 0 0 0 0 0 0 0 0 0 0 0 0 0 0 0 0 0 0 0 1 1 0 1 0 0 0 0 0 0 1 0 0 1\n",
            "  0 0 0 0 0 0 0 0 1 1 0 0 0 0]\n",
            " [0 0 0 0 0 0 0 0 0 0 0 0 0 0 0 0 0 0 0 0 0 0 1 1 0 1 0 0 0 0 0 0 0 1 1 1\n",
            "  1 1 0 1 1 1 0 0 0 0 0 0 0 0]\n",
            " [0 0 0 0 0 0 0 0 0 0 0 0 0 0 0 0 0 0 0 0 0 0 0 1 1 0 0 0 0 0 0 0 0 0 0 0\n",
            "  0 1 0 0 0 0 0 0 0 0 0 0 0 0]\n",
            " [0 0 0 0 0 0 0 0 0 0 0 0 0 0 0 0 0 0 0 0 0 0 0 1 0 0 0 0 0 0 0 0 0 0 0 1\n",
            "  1 1 0 0 0 0 0 0 0 0 0 0 0 0]\n",
            " [0 0 1 0 0 0 0 0 0 0 0 0 0 0 0 0 0 0 0 1 1 0 1 1 0 0 0 0 0 0 0 0 0 0 0 1\n",
            "  1 1 1 1 0 0 0 0 0 0 0 0 0 0]\n",
            " [0 1 0 1 0 0 0 0 0 0 0 0 0 0 0 0 0 0 0 1 1 0 1 0 0 0 0 0 0 0 0 0 0 0 0 0\n",
            "  0 0 1 1 0 0 0 0 0 0 0 0 0 0]\n",
            " [0 1 0 1 0 0 0 0 0 0 0 0 1 1 0 0 0 0 0 0 0 1 0 0 1 1 0 0 0 0 0 0 0 0 0 0\n",
            "  0 0 1 0 1 0 0 0 0 0 0 0 0 0]\n",
            " [0 0 1 0 0 0 0 0 0 0 0 0 1 1 0 0 0 0 0 0 0 0 0 0 1 1 0 0 0 0 0 0 0 0 0 0\n",
            "  0 0 1 0 1 1 0 1 1 0 0 0 0 0]\n",
            " [0 0 0 0 0 0 0 0 0 0 0 0 0 0 0 0 0 0 0 0 0 0 0 0 0 0 0 0 0 0 0 0 0 0 0 0\n",
            "  0 1 1 0 1 0 0 1 1 0 0 0 0 0]\n",
            " [0 0 0 0 0 0 0 0 0 0 0 0 0 0 0 0 0 0 0 0 0 0 0 0 0 0 0 0 0 0 0 0 0 0 0 0\n",
            "  0 0 1 1 0 0 0 0 0 0 0 0 0 0]\n",
            " [0 0 0 0 0 0 0 0 0 0 0 0 0 0 0 0 0 0 0 0 0 0 0 0 0 0 0 0 0 0 0 0 0 0 0 0\n",
            "  0 0 0 0 0 0 0 0 0 0 0 0 0 0]\n",
            " [0 0 0 0 0 0 0 0 0 0 0 0 0 0 0 0 0 0 0 0 0 0 0 0 0 0 0 0 0 0 0 0 0 0 0 0\n",
            "  0 0 0 0 0 0 0 0 0 0 0 0 0 0]\n",
            " [0 0 0 0 0 0 0 0 0 0 0 0 0 0 0 0 0 0 0 0 0 0 0 0 0 0 0 0 0 0 0 0 0 0 0 0\n",
            "  0 0 0 0 0 0 0 0 0 0 0 0 0 0]\n",
            " [0 0 0 0 0 0 0 0 0 0 0 0 0 0 0 0 0 0 0 0 0 0 0 0 0 0 0 0 0 0 0 0 0 0 0 0\n",
            "  0 0 0 0 0 0 0 0 0 0 0 0 0 0]\n",
            " [0 0 0 0 0 0 0 0 0 0 0 0 0 0 0 0 0 0 0 1 1 0 0 0 0 0 0 0 0 0 0 0 0 0 0 0\n",
            "  0 0 0 1 1 0 0 0 0 0 0 0 0 0]\n",
            " [0 0 0 0 0 0 0 0 0 0 1 0 0 0 0 0 0 0 1 0 1 0 0 0 0 0 0 0 0 0 0 0 0 0 0 0\n",
            "  0 0 0 1 1 0 0 0 0 0 0 0 0 0]\n",
            " [0 0 0 0 0 0 0 0 0 1 0 1 0 0 0 0 0 0 0 1 0 0 0 0 0 0 0 0 0 0 0 0 0 0 0 0\n",
            "  0 0 0 0 0 0 0 0 0 0 0 0 0 0]\n",
            " [0 0 0 0 0 0 0 0 0 1 0 1 0 0 0 0 0 0 0 0 0 0 0 0 0 0 0 0 0 0 1 1 0 0 0 0\n",
            "  0 0 0 0 0 0 0 0 0 0 0 0 0 0]\n",
            " [0 0 0 0 0 0 0 0 0 0 1 0 0 0 0 0 0 0 0 0 0 0 0 0 0 0 0 0 0 0 1 1 0 0 0 0\n",
            "  0 0 0 0 0 0 0 0 0 0 0 0 0 0]\n",
            " [0 0 0 0 0 0 0 0 0 0 0 0 0 0 0 0 0 0 0 0 0 0 0 0 0 0 0 0 0 0 0 0 0 0 0 0\n",
            "  0 0 0 0 0 0 0 0 0 0 0 0 0 0]\n",
            " [0 0 0 0 0 0 0 0 0 0 0 0 0 0 0 0 0 0 0 0 0 0 0 0 0 0 0 0 0 0 0 0 0 0 0 0\n",
            "  0 0 0 0 0 0 0 0 0 0 0 0 0 0]\n",
            " [0 0 0 0 0 0 0 0 0 0 0 0 0 0 0 0 0 0 0 0 0 0 0 0 0 0 0 0 0 0 0 0 0 0 0 0\n",
            "  0 0 0 0 0 0 0 0 0 0 0 0 0 0]\n",
            " [0 0 0 0 0 0 0 0 0 0 0 0 0 0 0 0 0 0 0 0 0 0 0 0 0 0 0 0 0 0 0 0 0 0 0 0\n",
            "  0 0 0 0 0 0 0 0 0 0 0 0 0 0]\n",
            " [0 0 0 0 0 0 0 0 0 0 0 0 0 0 0 0 0 0 0 0 0 0 0 0 0 0 0 0 0 0 0 0 0 0 0 0\n",
            "  0 0 0 0 0 0 0 0 0 0 0 0 0 0]\n",
            " [0 0 0 0 0 0 0 0 0 0 0 0 0 0 0 0 0 0 0 0 0 0 0 0 0 0 0 0 0 0 0 0 0 0 0 0\n",
            "  0 0 0 0 0 0 0 0 0 0 0 0 0 0]\n",
            " [0 0 0 0 0 0 0 0 0 0 0 0 0 0 0 0 0 0 0 0 0 0 0 0 0 0 0 0 0 0 0 0 0 0 0 0\n",
            "  0 0 0 1 0 0 0 0 0 0 0 0 0 0]\n",
            " [0 0 0 0 0 0 0 0 0 0 0 0 0 0 0 0 0 0 0 0 0 0 0 0 0 0 0 0 0 0 0 0 0 0 0 0\n",
            "  0 0 1 0 1 0 0 0 0 0 0 0 0 0]\n",
            " [0 0 0 0 0 0 0 0 0 0 0 0 0 0 0 0 0 0 0 0 0 0 0 0 0 0 0 0 0 0 0 0 0 0 0 0\n",
            "  0 0 1 0 0 1 0 0 0 0 0 0 0 0]\n",
            " [0 0 0 0 0 0 0 0 0 0 0 0 0 0 0 0 0 0 0 0 0 0 0 0 0 0 0 0 0 0 0 0 0 0 0 0\n",
            "  0 0 0 1 1 0 0 0 0 0 0 0 0 0]\n",
            " [0 0 0 0 0 0 0 0 0 0 0 0 0 0 0 0 0 0 0 0 0 0 0 0 0 0 0 0 0 0 0 0 0 0 0 0\n",
            "  0 0 0 0 0 0 0 0 0 0 0 0 0 0]\n",
            " [0 0 0 0 0 0 0 0 0 0 0 0 0 0 0 0 0 0 0 0 0 0 0 0 0 0 0 0 0 0 0 0 0 0 0 0\n",
            "  0 0 0 0 0 0 0 0 0 0 0 0 0 0]\n",
            " [0 1 1 0 0 0 0 0 0 0 0 0 0 0 0 0 0 0 0 0 0 0 0 0 0 0 0 0 0 0 0 0 0 0 0 0\n",
            "  0 0 0 0 0 0 0 0 0 0 0 0 0 0]\n",
            " [0 1 1 0 0 0 0 0 0 0 0 0 0 0 0 1 1 0 0 0 0 0 0 0 0 0 0 0 0 0 0 0 0 0 0 0\n",
            "  0 0 0 0 0 0 0 0 0 0 0 0 0 0]\n",
            " [0 0 0 0 0 0 0 0 0 0 0 0 0 0 1 0 1 0 0 0 0 0 0 0 0 0 0 0 0 0 0 1 0 0 0 0\n",
            "  0 0 0 0 0 0 0 0 0 0 0 0 0 0]\n",
            " [0 0 0 0 0 0 0 0 0 0 0 0 0 0 0 1 0 0 0 0 0 0 0 0 0 0 0 0 0 0 1 0 1 0 0 0\n",
            "  0 0 0 0 0 0 0 0 0 0 0 0 0 0]\n",
            " [0 0 0 0 0 0 0 0 0 0 0 0 0 0 0 0 0 0 0 0 0 0 0 0 0 0 0 0 0 0 1 0 1 0 0 0\n",
            "  0 0 0 0 0 0 0 0 0 0 0 0 0 0]\n",
            " [0 1 1 0 0 0 0 0 0 0 0 0 0 0 0 0 0 0 0 0 0 1 1 0 0 0 0 0 0 0 0 1 0 0 0 0\n",
            "  0 0 0 0 0 0 0 0 0 0 0 0 0 0]\n",
            " [0 1 1 0 0 0 0 0 0 0 0 0 0 0 0 0 0 0 0 0 0 1 1 0 0 0 0 0 0 0 0 0 0 0 0 0\n",
            "  0 0 0 0 0 0 0 0 0 0 0 0 0 0]\n",
            " [0 0 0 0 0 0 0 0 0 0 0 0 0 0 0 0 0 0 0 0 0 0 0 0 0 0 0 0 0 0 0 0 0 0 0 0\n",
            "  0 0 0 0 0 0 0 0 0 0 0 0 0 0]]\n"
          ]
        }
      ],
      "source": [
        "def iterate(Z):\n",
        "    N = (Z[0:-2,0:-2] + Z[0:-2,1:-1] + Z[0:-2,2:] +\n",
        "         Z[1:-1,0:-2]                + Z[1:-1,2:] +\n",
        "         Z[2:  ,0:-2] + Z[2:  ,1:-1] + Z[2:  ,2:])\n",
        "\n",
        "    birth = (N==3) & (Z[1:-1,1:-1]==0)\n",
        "    survive = ((N==2) | (N==3)) & (Z[1:-1,1:-1]==1)\n",
        "    Z[...] = 0\n",
        "    Z[1:-1,1:-1][birth | survive] = 1\n",
        "    return Z\n",
        "\n",
        "Z = np.random.randint(0,2,(50,50))\n",
        "for i in range(100): Z = iterate(Z)\n",
        "print(Z)"
      ]
    },
    {
      "cell_type": "markdown",
      "metadata": {
        "id": "mU_CsHDFDVLJ"
      },
      "source": [
        "#### 89. How to get the n largest values of an array (★★★) \n",
        "(**hint**: np.argsort | np.argpartition)"
      ]
    },
    {
      "cell_type": "code",
      "execution_count": 94,
      "metadata": {
        "id": "jpElXN-rDVLK",
        "outputId": "933c3547-ea06-40e3-ca71-f3b9247107f5",
        "colab": {
          "base_uri": "https://localhost:8080/"
        }
      },
      "outputs": [
        {
          "output_type": "stream",
          "name": "stdout",
          "text": [
            "[9995 9996 9997 9998 9999]\n",
            "[9999 9997 9998 9996 9995]\n"
          ]
        }
      ],
      "source": [
        "Z = np.arange(10000)\n",
        "np.random.shuffle(Z)\n",
        "n = 5\n",
        "\n",
        "# Slow\n",
        "print (Z[np.argsort(Z)[-n:]])\n",
        "\n",
        "# Fast\n",
        "print (Z[np.argpartition(-Z,n)[:n]])"
      ]
    },
    {
      "cell_type": "markdown",
      "metadata": {
        "id": "IneTxU-eDVLK"
      },
      "source": [
        "#### 90. Given an arbitrary number of vectors, build the cartesian product (every combinations of every item) (★★★) \n",
        "(**hint**: np.indices)"
      ]
    },
    {
      "cell_type": "code",
      "execution_count": 95,
      "metadata": {
        "scrolled": true,
        "id": "CajECXfHDVLK",
        "outputId": "3947c8f2-1bfd-48a3-9549-38098e5ee267",
        "colab": {
          "base_uri": "https://localhost:8080/"
        }
      },
      "outputs": [
        {
          "output_type": "stream",
          "name": "stdout",
          "text": [
            "[[1 4 6]\n",
            " [1 4 7]\n",
            " [1 5 6]\n",
            " [1 5 7]\n",
            " [2 4 6]\n",
            " [2 4 7]\n",
            " [2 5 6]\n",
            " [2 5 7]\n",
            " [3 4 6]\n",
            " [3 4 7]\n",
            " [3 5 6]\n",
            " [3 5 7]]\n"
          ]
        }
      ],
      "source": [
        "def cartesian(arrays):\n",
        "    arrays = [np.asarray(a) for a in arrays]\n",
        "    shape = (len(x) for x in arrays)\n",
        "\n",
        "    ix = np.indices(shape, dtype=int)\n",
        "    ix = ix.reshape(len(arrays), -1).T\n",
        "\n",
        "    for n, arr in enumerate(arrays):\n",
        "        ix[:, n] = arrays[n][ix[:, n]]\n",
        "\n",
        "    return ix\n",
        "\n",
        "print (cartesian(([1, 2, 3], [4, 5], [6, 7])))"
      ]
    },
    {
      "cell_type": "markdown",
      "metadata": {
        "id": "a8SMEGVvDVLL"
      },
      "source": [
        "#### 91. How to create a record array from a regular array? (★★★) \n",
        "(**hint**: np.core.records.fromarrays)"
      ]
    },
    {
      "cell_type": "code",
      "execution_count": 96,
      "metadata": {
        "id": "PUrCWWgiDVLL",
        "outputId": "4112f2c4-8162-407f-8c56-108909b763cf",
        "colab": {
          "base_uri": "https://localhost:8080/"
        }
      },
      "outputs": [
        {
          "output_type": "stream",
          "name": "stdout",
          "text": [
            "[['Hello' '2.5' '3']\n",
            " ['World' '3.6' '2']]\n",
            "[(b'Hello', 2.5, 3) (b'World', 3.6, 2)]\n"
          ]
        }
      ],
      "source": [
        "Z = np.array([(\"Hello\", 2.5, 3),\n",
        "              (\"World\", 3.6, 2)])\n",
        "print(Z)\n",
        "R = np.core.records.fromarrays(Z.T, \n",
        "                               names='col1, col2, col3',\n",
        "                               formats = 'S8, f8, i8')\n",
        "print(R)"
      ]
    },
    {
      "cell_type": "markdown",
      "metadata": {
        "id": "sRMTwgRsDVLL"
      },
      "source": [
        "#### 92. Consider a large vector Z, compute Z to the power of 3 using 3 different methods (★★★) \n",
        "(**hint**: np.power, \\*, np.einsum)"
      ]
    },
    {
      "cell_type": "code",
      "execution_count": 97,
      "metadata": {
        "id": "dkkS4JDLDVLL",
        "outputId": "5ff3433b-2a53-4b4a-9221-2943b5ae7406",
        "colab": {
          "base_uri": "https://localhost:8080/"
        }
      },
      "outputs": [
        {
          "output_type": "stream",
          "name": "stdout",
          "text": [
            "2.74 s ± 152 ms per loop (mean ± std. dev. of 7 runs, 1 loop each)\n",
            "89.6 ms ± 1.47 ms per loop (mean ± std. dev. of 7 runs, 10 loops each)\n",
            "77.7 ms ± 985 µs per loop (mean ± std. dev. of 7 runs, 10 loops each)\n"
          ]
        }
      ],
      "source": [
        "x = np.random.rand(int(5e7))\n",
        "\n",
        "%timeit np.power(x,3)\n",
        "%timeit x*x*x\n",
        "%timeit np.einsum('i,i,i->i',x,x,x)"
      ]
    },
    {
      "cell_type": "markdown",
      "metadata": {
        "id": "nVmj0cNwDVLL"
      },
      "source": [
        "#### 93. Consider two arrays A and B of shape (8,3) and (2,2). How to find rows of A that contain elements of each row of B regardless of the order of the elements in B? (★★★) \n",
        "(**hint**: np.where)"
      ]
    },
    {
      "cell_type": "code",
      "execution_count": 98,
      "metadata": {
        "id": "BGOD8pmyDVLM",
        "outputId": "d7a19f39-d978-4dfe-bfc9-6da68a2655ec",
        "colab": {
          "base_uri": "https://localhost:8080/"
        }
      },
      "outputs": [
        {
          "output_type": "stream",
          "name": "stdout",
          "text": [
            "[0 2 3]\n"
          ]
        }
      ],
      "source": [
        "A = np.random.randint(0,5,(8,3))\n",
        "B = np.random.randint(0,5,(2,2))\n",
        "\n",
        "C = (A[..., np.newaxis, np.newaxis] == B)\n",
        "rows = np.where(C.any((3,1)).all(1))[0]\n",
        "print(rows)"
      ]
    },
    {
      "cell_type": "markdown",
      "metadata": {
        "id": "equRm0qSDVLM"
      },
      "source": [
        "#### 94. Considering a 10x3 matrix, extract rows with unequal values (e.g. \\[2,2,3\\]) (★★★)"
      ]
    },
    {
      "cell_type": "code",
      "execution_count": 99,
      "metadata": {
        "id": "2KqLlRdlDVLM",
        "outputId": "9f56a62b-fee5-4d66-c26d-c308d29dc2d3",
        "colab": {
          "base_uri": "https://localhost:8080/"
        }
      },
      "outputs": [
        {
          "output_type": "stream",
          "name": "stdout",
          "text": [
            "[[4 1 3]\n",
            " [4 4 4]\n",
            " [0 3 0]\n",
            " [2 1 1]\n",
            " [0 2 0]\n",
            " [2 3 2]\n",
            " [0 2 2]\n",
            " [0 2 3]\n",
            " [2 3 1]\n",
            " [1 1 0]]\n",
            "[[4 1 3]\n",
            " [0 3 0]\n",
            " [2 1 1]\n",
            " [0 2 0]\n",
            " [2 3 2]\n",
            " [0 2 2]\n",
            " [0 2 3]\n",
            " [2 3 1]\n",
            " [1 1 0]]\n",
            "[[4 1 3]\n",
            " [0 3 0]\n",
            " [2 1 1]\n",
            " [0 2 0]\n",
            " [2 3 2]\n",
            " [0 2 2]\n",
            " [0 2 3]\n",
            " [2 3 1]\n",
            " [1 1 0]]\n"
          ]
        }
      ],
      "source": [
        "Z = np.random.randint(0,5,(10,3))\n",
        "print(Z)\n",
        "\n",
        "E = np.all(Z[:,1:] == Z[:,:-1], axis=1)\n",
        "U = Z[~E]\n",
        "print(U)\n",
        "\n",
        "U = Z[Z.max(axis=1) != Z.min(axis=1),:]\n",
        "print(U)"
      ]
    },
    {
      "cell_type": "markdown",
      "metadata": {
        "id": "DwD7bnJMDVLM"
      },
      "source": [
        "#### 95. Convert a vector of ints into a matrix binary representation (★★★) \n",
        "(**hint**: np.unpackbits)"
      ]
    },
    {
      "cell_type": "code",
      "execution_count": 100,
      "metadata": {
        "id": "zTWyEzp4DVLM",
        "outputId": "2490897e-4e24-414f-ec18-23f6794af5be",
        "colab": {
          "base_uri": "https://localhost:8080/"
        }
      },
      "outputs": [
        {
          "output_type": "stream",
          "name": "stdout",
          "text": [
            "[[0 0 0 0 0 0 0 0]\n",
            " [0 0 0 0 0 0 0 1]\n",
            " [0 0 0 0 0 0 1 0]\n",
            " [0 0 0 0 0 0 1 1]\n",
            " [0 0 0 0 1 1 1 1]\n",
            " [0 0 0 1 0 0 0 0]\n",
            " [0 0 1 0 0 0 0 0]\n",
            " [0 1 0 0 0 0 0 0]\n",
            " [1 0 0 0 0 0 0 0]]\n",
            "[[0 0 0 0 0 0 0 0]\n",
            " [0 0 0 0 0 0 0 1]\n",
            " [0 0 0 0 0 0 1 0]\n",
            " [0 0 0 0 0 0 1 1]\n",
            " [0 0 0 0 1 1 1 1]\n",
            " [0 0 0 1 0 0 0 0]\n",
            " [0 0 1 0 0 0 0 0]\n",
            " [0 1 0 0 0 0 0 0]\n",
            " [1 0 0 0 0 0 0 0]]\n"
          ]
        }
      ],
      "source": [
        "I = np.array([0, 1, 2, 3, 15, 16, 32, 64, 128])\n",
        "B = ((I.reshape(-1,1) & (2**np.arange(8))) != 0).astype(int)\n",
        "print(B[:,::-1])\n",
        "I = np.array([0, 1, 2, 3, 15, 16, 32, 64, 128], dtype=np.uint8)\n",
        "print(np.unpackbits(I[:, np.newaxis], axis=1))"
      ]
    },
    {
      "cell_type": "markdown",
      "metadata": {
        "id": "r2JQ4GnyDVLN"
      },
      "source": [
        "#### 96. Given a two dimensional array, how to extract unique rows? (★★★) \n",
        "(**hint**: np.ascontiguousarray)"
      ]
    },
    {
      "cell_type": "code",
      "execution_count": 101,
      "metadata": {
        "id": "RUC9ehpQDVLN",
        "outputId": "bcfefb36-34b3-4f2f-8993-f593fdb5c0d9",
        "colab": {
          "base_uri": "https://localhost:8080/"
        }
      },
      "outputs": [
        {
          "output_type": "stream",
          "name": "stdout",
          "text": [
            "[[0 1 1]\n",
            " [1 0 0]\n",
            " [1 1 0]\n",
            " [1 1 1]]\n"
          ]
        }
      ],
      "source": [
        "Z = np.random.randint(0,2,(6,3))\n",
        "T = np.ascontiguousarray(Z).view(np.dtype((np.void, Z.dtype.itemsize * Z.shape[1])))\n",
        "_, idx = np.unique(T, return_index=True)\n",
        "uZ = Z[idx]\n",
        "print(uZ)"
      ]
    },
    {
      "cell_type": "markdown",
      "metadata": {
        "id": "eyGXdTZUDVLN"
      },
      "source": [
        "#### 97. Considering 2 vectors A & B, write the einsum equivalent of inner, outer, sum, and mul function (★★★) \n",
        "(**hint**: np.einsum)"
      ]
    },
    {
      "cell_type": "code",
      "execution_count": 102,
      "metadata": {
        "id": "pzt7yLSEDVLN",
        "outputId": "8561ba5c-b19c-4671-e630-a1eb8bb09721",
        "colab": {
          "base_uri": "https://localhost:8080/"
        }
      },
      "outputs": [
        {
          "output_type": "execute_result",
          "data": {
            "text/plain": [
              "array([[0.44292207, 0.0480825 , 0.13693653, 0.12412905, 0.43582305,\n",
              "        0.27900389, 0.47228454, 0.44834292, 0.39886544, 0.47612833],\n",
              "       [0.72804086, 0.07903428, 0.22508562, 0.20403367, 0.71637204,\n",
              "        0.4586049 , 0.77630459, 0.73695122, 0.655624  , 0.78262272],\n",
              "       [0.42303628, 0.04592375, 0.13078852, 0.11855605, 0.41625599,\n",
              "        0.2664775 , 0.45108047, 0.42821375, 0.38095766, 0.45475169],\n",
              "       [0.15268378, 0.01657497, 0.04720466, 0.04278968, 0.15023662,\n",
              "        0.09617802, 0.16280559, 0.15455245, 0.13749661, 0.16413062],\n",
              "       [0.71682366, 0.07781657, 0.22161764, 0.20089005, 0.70533464,\n",
              "        0.451539  , 0.76434378, 0.72559674, 0.64552256, 0.77056456],\n",
              "       [0.12397809, 0.01345875, 0.03832983, 0.0347449 , 0.12199101,\n",
              "        0.07809584, 0.13219692, 0.12549544, 0.11164622, 0.13327284],\n",
              "       [0.5177939 , 0.0562104 , 0.16008437, 0.1451119 , 0.50949486,\n",
              "        0.32616688, 0.55211981, 0.52413109, 0.46628991, 0.55661336],\n",
              "       [0.63683377, 0.06913307, 0.19688747, 0.17847286, 0.62662679,\n",
              "        0.40115205, 0.67905115, 0.64462787, 0.57348911, 0.68457776],\n",
              "       [0.36438566, 0.03955679, 0.11265573, 0.10211919, 0.3585454 ,\n",
              "        0.22953251, 0.38854174, 0.36884531, 0.3281409 , 0.39170397],\n",
              "       [0.51764818, 0.05619458, 0.16003932, 0.14507106, 0.50935148,\n",
              "        0.3260751 , 0.55196444, 0.52398359, 0.46615869, 0.55645672]])"
            ]
          },
          "metadata": {},
          "execution_count": 102
        }
      ],
      "source": [
        "A = np.random.uniform(0,1,10)\n",
        "B = np.random.uniform(0,1,10)\n",
        "np.einsum('i->', A)      \n",
        "np.einsum('i,i->i', A, B) \n",
        "np.einsum('i,i', A, B)    \n",
        "np.einsum('i,j->ij', A, B)"
      ]
    },
    {
      "cell_type": "markdown",
      "metadata": {
        "id": "8y6be2RnDVLO"
      },
      "source": [
        "#### 98. Considering a path described by two vectors (X,Y), how to sample it using equidistant samples (★★★)? \n",
        "(**hint**: np.cumsum, np.interp)"
      ]
    },
    {
      "cell_type": "code",
      "execution_count": 105,
      "metadata": {
        "collapsed": true,
        "id": "Qm6y5uRNDVLO",
        "outputId": "b22dc360-3e5e-425d-c921-22839e2091c4",
        "colab": {
          "base_uri": "https://localhost:8080/"
        }
      },
      "outputs": [
        {
          "output_type": "stream",
          "name": "stdout",
          "text": [
            "[  0.           0.09950042   0.19601332   0.28660095   0.3684244\n",
            "   0.43879128   0.49520137   0.53538953   0.55736537   0.55944897\n",
            "   0.54030231   0.49895573   0.43482931   0.34774848   0.237954\n",
            "   0.1061058   -0.04671924  -0.21903564  -0.40896377  -0.61425018\n",
            "  -0.83229367  -1.06017682  -1.29470246  -1.53243485  -1.76974492\n",
            "  -2.00285904  -2.22791076  -2.44099478  -2.63822255  -2.81577868\n",
            "  -2.96997749  -3.09731897  -3.19454328  -3.25868324  -3.28711385\n",
            "  -3.27759841  -3.2283303   -3.13797012  -3.00567731  -2.83113599\n",
            "  -2.61457448  -2.35677818  -2.05909545  -1.72343644  -1.35226463\n",
            "  -0.9485811   -0.51590162  -0.05822672   0.41999512   0.91391061\n",
            "   1.41831093   1.92768649   2.43628669   2.93818398   3.42734153\n",
            "   3.89768376   4.34316892   4.75786287   5.1360132    5.47212274\n",
            "   5.76102172   5.99793747   6.178561     6.29910941   6.35638348\n",
            "   6.34781957   6.27153511   6.12636709   5.91190293   5.62850319\n",
            "   5.27731578   4.86028133   4.38012946   3.84036588   3.24525022\n",
            "   2.59976488   1.9095748    1.18097874   0.42085228  -0.36341679\n",
            "  -1.16400027  -1.97270765  -2.78106986  -3.58042781  -4.36202469\n",
            "  -5.11710117  -5.83699241  -6.51322582  -7.13761852  -7.70237336\n",
            "  -8.20017236  -8.62426658  -8.96856132  -9.22769553  -9.3971146\n",
            "  -9.47313548  -9.45300342  -9.33493933  -9.11817747  -8.80299241\n",
            "  -8.39071529  -7.88373862  -7.28550965  -6.6005121   -5.83423628\n",
            "  -4.99313774  -4.08458482  -3.11679531  -2.09876299  -1.04017448\n",
            "   0.04868268   1.1570199    2.27365447   3.38712238   4.48579588\n",
            "   5.55800473   6.59215971   7.57687716   8.50110325   9.35423652\n",
            "  10.1262475   10.80779395  11.39033046  11.8662112   12.22878455\n",
            "  12.47247849  12.59287578  12.58677787  12.45225684  12.18869449\n",
            "  11.79680816  11.27866268  10.63766824   9.878564     9.00738732\n",
            "   8.03142895   6.9591743    5.80023126   4.56524532   3.26580248\n",
            "   1.91432105   0.52393323  -0.89164247  -2.31823644  -3.74136993\n",
            "  -5.14640187  -6.51867941  -7.84369048  -9.10721675 -10.29548549\n",
            " -11.39531869 -12.39427773 -13.28080214 -14.04434094 -14.67547492\n",
            " -15.16602867 -15.50917095 -15.69950221 -15.73312822 -15.60771894\n",
            " -15.32255169 -14.87853808 -14.27823434 -13.52583451 -12.62714655\n",
            " -11.58955145 -10.42194539  -9.13466558  -7.73940027  -6.24908366\n",
            "  -4.67777675  -3.04053512  -1.35326495   0.36743138   2.10441864\n",
            "   3.84019936   5.55709009   7.23740149   8.86362041  10.41859212\n",
            "  11.88570075  13.24904611  14.49361496  15.6054449   16.57177917\n",
            "  17.38121053  18.02381279  18.49125831  18.7769203   18.87595858\n",
            "  18.78538775  18.50412697  18.03303066  17.3748994   16.53447108\n",
            "  15.51839191  14.33516747  12.99509423  11.51017187   9.89399732\n",
            "   8.16164124   6.32950824   4.41518203   2.43725688   0.4151572\n",
            "  -1.63105313  -3.6808699   -5.713554    -7.70834118  -9.64465412\n",
            " -11.50231446 -13.26175272 -14.9042139  -16.41195663 -17.76844373\n",
            " -18.95852214 -19.96859034 -20.78675129 -21.40294938 -21.80908968\n",
            " -21.99913818 -21.96920183 -21.71758737 -21.24483813 -20.55374833\n",
            " -19.6493544  -18.53890336 -17.23179826 -15.73952118 -14.07553421\n",
            " -12.25515947 -10.29543901  -8.21497601  -6.03375864  -3.77296837\n",
            "  -1.45477441   0.89788356   3.2615224    5.6123499    7.92650424\n",
            "  10.18029618  12.35045135  14.41435043  16.35026444  18.13758293\n",
            "  19.7570326   21.19088398  22.42314406  23.43973275  24.2286412\n",
            "  24.7800703   25.08654775  25.14302233  24.94693422  24.49826054\n",
            "  23.79953536  22.85584389  21.67479057  20.26644137  18.64324051\n",
            "  16.81990238  14.81327959  12.64220817  10.32733155   7.89090473\n",
            "   5.35658069   2.74918094   0.09445254  -2.58118617  -5.25090838\n",
            "  -7.88774784 -10.46487118 -12.95585091 -15.33493623 -17.57731893\n",
            " -19.65939164 -21.55899571 -23.25565617 -24.7308012  -25.96796395\n",
            " -26.95296426 -27.67406854 -28.12212595 -28.2906792  -28.17604893\n",
            " -27.77739036 -27.09672162 -26.13892326 -24.91170863 -23.42556536\n",
            " -21.69366836 -19.73176483 -17.55803252 -15.19291234 -12.6589169\n",
            "  -9.98041672  -7.18340625  -4.29525175  -1.34442375   1.63978364\n",
            "   4.6275435    7.58879418  10.49354182  13.31216405  16.01571198\n",
            "  18.57620727  20.96693136  23.16270375  25.14014653  26.87793233\n",
            "  28.35701309  29.56082725  30.47548299  31.08991568  31.39601771] [ 0.00000000e+00  9.98334166e-03  3.97338662e-02  8.86560620e-02\n",
            "  1.55767337e-01  2.39712769e-01  3.38785484e-01  4.50952381e-01\n",
            "  5.73884873e-01  7.04994219e-01  8.41470985e-01  9.80328096e-01\n",
            "  1.11844690e+00  1.25262564e+00  1.37962962e+00  1.49624248e+00\n",
            "  1.59931776e+00  1.68583018e+00  1.75292574e+00  1.79797017e+00\n",
            "  1.81859485e+00  1.81273967e+00  1.77869209e+00  1.71512199e+00\n",
            "  1.62111163e+00  1.49618036e+00  1.34030357e+00  1.15392568e+00\n",
            "  9.37966820e-01  6.93823055e-01  4.23360024e-01  1.28900054e-01\n",
            " -1.86797259e-01 -5.20560791e-01 -8.68839747e-01 -1.22774130e+00\n",
            " -1.59307360e+00 -1.96039372e+00 -2.32505999e+00 -2.68228802e+00\n",
            " -3.02720998e+00 -3.35493616e+00 -3.66061824e+00 -3.93951353e+00\n",
            " -4.18704913e+00 -4.39888553e+00 -4.57097862e+00 -4.69963931e+00\n",
            " -4.78159012e+00 -4.81401780e+00 -4.79462137e+00 -4.72165488e+00\n",
            " -4.59396421e+00 -4.41101744e+00 -4.17292823e+00 -3.88047179e+00\n",
            " -3.53509317e+00 -3.13890759e+00 -2.69469264e+00 -2.20587232e+00\n",
            " -1.67649299e+00 -1.11119128e+00 -5.15154297e-01  1.05927573e-01\n",
            "  7.45914911e-01  1.39827992e+00  2.05617300e+00  2.71249447e+00\n",
            "  3.35997079e+00  3.99123437e+00  4.59890619e+00  5.17568018e+00\n",
            "  5.71440862e+00  6.20818733e+00  6.65043991e+00  7.03499983e+00\n",
            "  7.35618951e+00  7.60889540e+00  7.78863809e+00  7.89163660e+00\n",
            "  7.91486597e+00  7.85610747e+00  7.71399056e+00  7.48802622e+00\n",
            "  7.17863083e+00  6.78714046e+00  6.31581504e+00  5.76783230e+00\n",
            "  5.14727130e+00  4.45908562e+00  3.70906637e+00  2.90379510e+00\n",
            "  2.05058721e+00  1.15742614e+00  2.32888999e-01 -7.13935644e-01\n",
            " -1.67353710e+00 -2.63607808e+00 -3.59149547e+00 -4.52960535e+00\n",
            " -5.44021111e+00 -6.31321355e+00 -7.13872181e+00 -7.90716384e+00\n",
            " -8.60939528e+00 -9.23680548e+00 -9.78141947e+00 -1.02359947e+01\n",
            " -1.05941113e+01 -1.08502552e+01 -1.09998923e+01 -1.10395337e+01\n",
            " -1.09667906e+01 -1.07804175e+01 -1.04803452e+01 -1.00677000e+01\n",
            " -9.54481170e+00 -8.91520793e+00 -8.18359600e+00 -7.35583164e+00\n",
            " -6.43887502e+00 -5.44073432e+00 -4.37039724e+00 -3.23775103e+00\n",
            " -2.05349178e+00 -8.29023717e-01  4.23650395e-01  1.69204693e+00\n",
            "  2.96332576e+00  4.22442026e+00  5.46217148e+00  6.66346518e+00\n",
            "  7.81537039e+00  8.90527784e+00  9.92103693e+00  1.08510898e+01\n",
            "  1.16846007e+01  1.24115800e+01  1.30230002e+01  1.35109043e+01\n",
            "  1.38685030e+01  1.40902624e+01  1.41719785e+01  1.41108391e+01\n",
            "  1.39054720e+01  1.35559783e+01  1.30639511e+01  1.24324784e+01\n",
            "  1.16661306e+01  1.07709321e+01  9.75431760e+00  8.62507273e+00\n",
            "  7.39326007e+00  6.07013077e+00  4.66802269e+00  3.20024597e+00\n",
            "  1.68095698e+00  1.25021985e-01 -1.45212823e+00 -3.03465144e+00\n",
            " -4.60645307e+00 -6.15134982e+00 -7.65323618e+00 -9.09625202e+00\n",
            " -1.04649496e+01 -1.17444581e+01 -1.29206445e+01 -1.39802677e+01\n",
            " -1.49111262e+01 -1.57021958e+01 -1.63437574e+01 -1.68275116e+01\n",
            " -1.71466811e+01 -1.72960977e+01 -1.72722732e+01 -1.70734551e+01\n",
            " -1.66996632e+01 -1.61527094e+01 -1.54361988e+01 -1.45555123e+01\n",
            " -1.35177704e+01 -1.23317792e+01 -1.10079574e+01 -9.55824719e+00\n",
            " -7.99600745e+00 -6.33589144e+00 -4.59371011e+00 -2.78628178e+00\n",
            " -9.31270049e-01  9.52988800e-01  2.84766698e+00  4.73363337e+00\n",
            "  6.59164663e+00  8.40255146e+00  1.01474758e+01  1.18080275e+01\n",
            "  1.33664870e+01  1.48059963e+01  1.61107400e+01  1.72661176e+01\n",
            "  1.82589050e+01  1.90774035e+01  1.97115745e+01  2.01531580e+01\n",
            "  2.03957752e+01  2.04350108e+01  2.02684779e+01  1.98958614e+01\n",
            "  1.93189409e+01  1.85415923e+01  1.75697684e+01  1.64114568e+01\n",
            "  1.50766179e+01  1.35771013e+01  1.19265421e+01  1.01402386e+01\n",
            "  8.23501062e+00  6.22904253e+00  4.14170953e+00  1.99339091e+00\n",
            " -1.94728804e-01 -2.40086876e+00 -4.60286854e+00 -6.77841078e+00\n",
            " -8.90524730e+00 -1.09614265e+01 -1.29255198e+01 -1.47768443e+01\n",
            " -1.64956804e+01 -1.80634807e+01 -1.94630693e+01 -2.06788282e+01\n",
            " -2.16968700e+01 -2.25051940e+01 -2.30938241e+01 -2.34549277e+01\n",
            " -2.35829134e+01 -2.34745068e+01 -2.31288030e+01 -2.25472954e+01\n",
            " -2.17338807e+01 -2.06948388e+01 -1.94387886e+01 -1.79766196e+01\n",
            " -1.63213996e+01 -1.44882595e+01 -1.24942561e+01 -1.03582146e+01\n",
            " -8.10055113e+00 -5.74307808e+00 -3.30879375e+00 -8.21658021e-01\n",
            "  1.69364343e+00  4.21194409e+00  6.70784844e+00  9.15598803e+00\n",
            "  1.15312792e+01  1.38091801e+01  1.59659436e+01  1.79788649e+01\n",
            "  1.98265197e+01  2.14889913e+01  2.29480843e+01  2.41875221e+01\n",
            "  2.51931265e+01  2.59529775e+01  2.64575510e+01  2.66998329e+01\n",
            "  2.66754096e+01  2.63825314e+01  2.58221501e+01  2.49979293e+01\n",
            "  2.39162273e+01  2.25860517e+01  2.10189881e+01  1.92291009e+01\n",
            "  1.72328089e+01  1.50487360e+01  1.26975380e+01  1.02017081e+01\n",
            "  7.58536207e+00  4.87400556e+00  2.09428557e+00 -7.26271386e-01\n",
            " -3.55953178e+00 -6.37703575e+00 -9.15028291e+00 -1.18510207e+01\n",
            " -1.44515319e+01 -1.69249191e+01 -1.92453826e+01 -2.13884889e+01\n",
            " -2.33314272e+01 -2.50532516e+01 -2.65351055e+01 -2.77604265e+01\n",
            " -2.87151297e+01 -2.93877664e+01 -2.97696578e+01 -2.98550014e+01\n",
            " -2.96409487e+01 -2.91276536e+01 -2.83182906e+01 -2.72190427e+01\n",
            " -2.58390590e+01 -2.41903808e+01 -2.22878395e+01 -2.01489244e+01\n",
            " -1.77936234e+01 -1.52442367e+01 -1.25251670e+01 -9.66268557e+00\n",
            " -6.68467926e+00 -3.62037882e+00 -5.00072086e-01] [0.00000000e+00 1.00000000e-01 2.00994225e-01 3.03948099e-01\n",
            " 4.09773428e-01 5.19310334e-01 6.33316917e-01 7.52465988e-01\n",
            " 8.77347271e-01 1.00847317e+00 1.14628646e+00 1.29116861e+00\n",
            " 1.44344797e+00 1.60340735e+00 1.77129076e+00 1.94730924e+00\n",
            " 2.13164591e+00 2.32446017e+00 2.52589132e+00 2.73606151e+00\n",
            " 2.95507828e+00 3.18303664e+00 3.42002084e+00 3.66610588e+00\n",
            " 3.92135873e+00 4.18583938e+00 4.45960178e+00 4.74269456e+00\n",
            " 5.03516168e+00 5.33704304e+00 5.64837490e+00 5.96919031e+00\n",
            " 6.29951948e+00 6.63939009e+00 6.98882753e+00 7.34785520e+00\n",
            " 7.71649464e+00 8.09476576e+00 8.48268698e+00 8.88027538e+00\n",
            " 9.28754684e+00 9.70451612e+00 1.01311970e+01 1.05676022e+01\n",
            " 1.10137439e+01 1.14696332e+01 1.19352807e+01 1.24106962e+01\n",
            " 1.28958890e+01 1.33908678e+01 1.38956409e+01 1.44102161e+01\n",
            " 1.49346005e+01 1.54688013e+01 1.60128248e+01 1.65666773e+01\n",
            " 1.71303646e+01 1.77038924e+01 1.82872658e+01 1.88804900e+01\n",
            " 1.94835697e+01 2.00965094e+01 2.07193135e+01 2.13519861e+01\n",
            " 2.19945311e+01 2.26469523e+01 2.33092533e+01 2.39814376e+01\n",
            " 2.46635083e+01 2.53554686e+01 2.60573216e+01 2.67690702e+01\n",
            " 2.74907170e+01 2.82222648e+01 2.89637160e+01 2.97150732e+01\n",
            " 3.04763387e+01 3.12475148e+01 3.20286035e+01 3.28196071e+01\n",
            " 3.36205275e+01 3.44313667e+01 3.52521266e+01 3.60828088e+01\n",
            " 3.69234153e+01 3.77739476e+01 3.86344073e+01 3.95047962e+01\n",
            " 4.03851155e+01 4.12753669e+01 4.21755518e+01 4.30856714e+01\n",
            " 4.40057271e+01 4.49357203e+01 4.58756521e+01 4.68255237e+01\n",
            " 4.77853363e+01 4.87550910e+01 4.97347890e+01 5.07244312e+01\n",
            " 5.17240188e+01 5.27335526e+01 5.37530338e+01 5.47824631e+01\n",
            " 5.58218416e+01 5.68711701e+01 5.79304495e+01 5.89996806e+01\n",
            " 6.00788642e+01 6.11680012e+01 6.22670923e+01 6.33761382e+01\n",
            " 6.44951397e+01 6.56240975e+01 6.67630122e+01 6.79118847e+01\n",
            " 6.90707154e+01 7.02395051e+01 7.14182544e+01 7.26069639e+01\n",
            " 7.38056341e+01 7.50142658e+01 7.62328593e+01 7.74614153e+01\n",
            " 7.86999344e+01 7.99484170e+01 8.12068636e+01 8.24752748e+01\n",
            " 8.37536510e+01 8.50419928e+01 8.63403005e+01 8.76485747e+01\n",
            " 8.89668157e+01 9.02950241e+01 9.16332002e+01 9.29813445e+01\n",
            " 9.43394574e+01 9.57075392e+01 9.70855903e+01 9.84736112e+01\n",
            " 9.98716023e+01 1.01279564e+02 1.02697496e+02 1.04125400e+02\n",
            " 1.05563275e+02 1.07011121e+02 1.08468941e+02 1.09936732e+02\n",
            " 1.11414496e+02 1.12902234e+02 1.14399945e+02 1.15907630e+02\n",
            " 1.17425288e+02 1.18952921e+02 1.20490529e+02 1.22038111e+02\n",
            " 1.23595669e+02 1.25163202e+02 1.26740711e+02 1.28328195e+02\n",
            " 1.29925656e+02 1.31533093e+02 1.33150507e+02 1.34777897e+02\n",
            " 1.36415265e+02 1.38062610e+02 1.39719933e+02 1.41387233e+02\n",
            " 1.43064512e+02 1.44751768e+02 1.46449003e+02 1.48156217e+02\n",
            " 1.49873409e+02 1.51600581e+02 1.53337731e+02 1.55084861e+02\n",
            " 1.56841971e+02 1.58609060e+02 1.60386130e+02 1.62173179e+02\n",
            " 1.63970209e+02 1.65777219e+02 1.67594210e+02 1.69421182e+02\n",
            " 1.71258134e+02 1.73105068e+02 1.74961983e+02 1.76828879e+02\n",
            " 1.78705758e+02 1.80592617e+02 1.82489459e+02 1.84396283e+02\n",
            " 1.86313089e+02 1.88239877e+02 1.90176648e+02 1.92123401e+02\n",
            " 1.94080137e+02 1.96046856e+02 1.98023558e+02 2.00010243e+02\n",
            " 2.02006911e+02 2.04013563e+02 2.06030198e+02 2.08056817e+02\n",
            " 2.10093420e+02 2.12140006e+02 2.14196577e+02 2.16263131e+02\n",
            " 2.18339670e+02 2.20426193e+02 2.22522701e+02 2.24629193e+02\n",
            " 2.26745669e+02 2.28872131e+02 2.31008577e+02 2.33155008e+02\n",
            " 2.35311425e+02 2.37477826e+02 2.39654213e+02 2.41840585e+02\n",
            " 2.44036942e+02 2.46243285e+02 2.48459614e+02 2.50685929e+02\n",
            " 2.52922229e+02 2.55168515e+02 2.57424787e+02 2.59691045e+02\n",
            " 2.61967290e+02 2.64253520e+02 2.66549737e+02 2.68855941e+02\n",
            " 2.71172130e+02 2.73498307e+02 2.75834470e+02 2.78180620e+02\n",
            " 2.80536756e+02 2.82902880e+02 2.85278991e+02 2.87665088e+02\n",
            " 2.90061173e+02 2.92467244e+02 2.94883304e+02 2.97309350e+02\n",
            " 2.99745384e+02 3.02191405e+02 3.04647414e+02 3.07113410e+02\n",
            " 3.09589394e+02 3.12075366e+02 3.14571326e+02 3.17077273e+02\n",
            " 3.19593208e+02 3.22119132e+02 3.24655043e+02 3.27200943e+02\n",
            " 3.29756830e+02 3.32322706e+02 3.34898570e+02 3.37484423e+02\n",
            " 3.40080264e+02 3.42686093e+02 3.45301911e+02 3.47927718e+02\n",
            " 3.50563513e+02 3.53209297e+02 3.55865069e+02 3.58530831e+02\n",
            " 3.61206581e+02 3.63892320e+02 3.66588048e+02 3.69293765e+02\n",
            " 3.72009471e+02 3.74735166e+02 3.77470850e+02 3.80216524e+02\n",
            " 3.82972187e+02 3.85737839e+02 3.88513480e+02 3.91299111e+02\n",
            " 3.94094731e+02 3.96900341e+02 3.99715940e+02 4.02541528e+02\n",
            " 4.05377107e+02 4.08222675e+02 4.11078232e+02 4.13943780e+02\n",
            " 4.16819317e+02 4.19704844e+02 4.22600361e+02 4.25505868e+02\n",
            " 4.28421365e+02 4.31346851e+02 4.34282328e+02 4.37227795e+02\n",
            " 4.40183252e+02 4.43148699e+02 4.46124136e+02 4.49109564e+02\n",
            " 4.52104982e+02 4.55110390e+02 4.58125788e+02 4.61151177e+02\n",
            " 4.64186556e+02 4.67231925e+02 4.70287286e+02 4.73352636e+02\n",
            " 4.76427977e+02 4.79513309e+02 4.82608631e+02 4.85713944e+02\n",
            " 4.88829248e+02 4.91954542e+02 4.95089827e+02]\n"
          ]
        }
      ],
      "source": [
        "phi = np.arange(0, 10*np.pi, 0.1)\n",
        "a = 1\n",
        "x = a*phi*np.cos(phi)\n",
        "y = a*phi*np.sin(phi)\n",
        "dr = (np.diff(x)**2 + np.diff(y)**2)**.5\n",
        "r = np.zeros_like(x)\n",
        "r[1:] = np.cumsum(dr)               \n",
        "r_int = np.linspace(0, r.max(), 200)\n",
        "x_int = np.interp(r_int, r, x)       \n",
        "y_int = np.interp(r_int, r, y)\n",
        "print(x,y,r)"
      ]
    },
    {
      "cell_type": "markdown",
      "metadata": {
        "id": "xxf2I1U9DVLO"
      },
      "source": [
        "#### 99. Given an integer n and a 2D array X, select from X the rows which can be interpreted as draws from a multinomial distribution with n degrees, i.e., the rows which only contain integers and which sum to n. (★★★) \n",
        "(**hint**: np.logical\\_and.reduce, np.mod)"
      ]
    },
    {
      "cell_type": "code",
      "execution_count": 106,
      "metadata": {
        "id": "-pihfICtDVLO",
        "outputId": "9866f422-16c0-4003-dca9-9ffbfb679c17",
        "colab": {
          "base_uri": "https://localhost:8080/"
        }
      },
      "outputs": [
        {
          "output_type": "stream",
          "name": "stdout",
          "text": [
            "[[2. 0. 1. 1.]]\n"
          ]
        }
      ],
      "source": [
        "X = np.asarray([[1.0, 0.0, 3.0, 8.0],\n",
        "                [2.0, 0.0, 1.0, 1.0],\n",
        "                [1.5, 2.5, 1.0, 0.0]])\n",
        "n = 4\n",
        "M = np.logical_and.reduce(np.mod(X, 1) == 0, axis=-1)\n",
        "M &= (X.sum(axis=-1) == n)\n",
        "print(X[M])"
      ]
    },
    {
      "cell_type": "markdown",
      "metadata": {
        "id": "4XzSLYXuDVLO"
      },
      "source": [
        "#### 100. Compute bootstrapped 95% confidence intervals for the mean of a 1D array X (i.e., resample the elements of an array with replacement N times, compute the mean of each sample, and then compute percentiles over the means). (★★★) \n",
        "(**hint**: np.percentile)"
      ]
    },
    {
      "cell_type": "code",
      "execution_count": 107,
      "metadata": {
        "id": "XFWRdZmLDVLP",
        "outputId": "0b5627a4-914b-4926-ab0c-162c70b25c93",
        "colab": {
          "base_uri": "https://localhost:8080/"
        }
      },
      "outputs": [
        {
          "output_type": "stream",
          "name": "stdout",
          "text": [
            "[-0.27715359  0.1279657 ]\n"
          ]
        }
      ],
      "source": [
        "X = np.random.randn(100) # random 1D array\n",
        "N = 1000 # number of bootstrap samples\n",
        "idx = np.random.randint(0, X.size, (N, X.size))\n",
        "means = X[idx].mean(axis=1)\n",
        "confint = np.percentile(means, [2.5, 97.5])\n",
        "print(confint)"
      ]
    }
  ],
  "metadata": {
    "kernelspec": {
      "display_name": "Python 3",
      "language": "python",
      "name": "python3"
    },
    "language_info": {
      "codemirror_mode": {
        "name": "ipython",
        "version": 3
      },
      "file_extension": ".py",
      "mimetype": "text/x-python",
      "name": "python",
      "nbconvert_exporter": "python",
      "pygments_lexer": "ipython3",
      "version": "3.8.3"
    },
    "colab": {
      "provenance": [],
      "include_colab_link": true
    }
  },
  "nbformat": 4,
  "nbformat_minor": 0
}